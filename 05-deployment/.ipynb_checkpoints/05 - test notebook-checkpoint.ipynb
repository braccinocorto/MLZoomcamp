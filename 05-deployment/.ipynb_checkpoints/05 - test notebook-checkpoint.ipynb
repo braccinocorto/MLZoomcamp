{
 "cells": [
  {
   "cell_type": "code",
   "execution_count": 5,
   "id": "2e86e246",
   "metadata": {},
   "outputs": [
    {
     "data": {
      "text/plain": [
       "(LogisticRegression(solver='liblinear'), DictVectorizer(sparse=False))"
      ]
     },
     "execution_count": 5,
     "metadata": {},
     "output_type": "execute_result"
    }
   ],
   "source": [
    "import pickle\n",
    "import sklearn\n",
    "import json\n",
    "\n",
    "\n",
    "input_file='model1.bin'\n",
    "with open(input_file,'rb') as f_in:\n",
    "    model = pickle.load(f_in)\n",
    "\n",
    "input_file2='dv.bin'\n",
    "with open(input_file2,'rb') as f_in:\n",
    "    dv = pickle.load(f_in)\n",
    "\n",
    "model, dv"
   ]
  },
  {
   "cell_type": "code",
   "execution_count": 8,
   "id": "f14a4db9",
   "metadata": {},
   "outputs": [
    {
     "data": {
      "text/plain": [
       "array([[0.83786586, 0.16213414]])"
      ]
     },
     "execution_count": 8,
     "metadata": {},
     "output_type": "execute_result"
    }
   ],
   "source": [
    "#test_cust = {'reports': 0, 'share': 0.001694, 'expenditure': 0.12, 'owner': 'yes'}\n",
    "\n",
    "with open('cust.json') as json_file:\n",
    "    test_cust = json.load(json_file)\n",
    "\n",
    "X= dv.transform([test_cust])\n",
    "model.predict_proba(X)"
   ]
  },
  {
   "cell_type": "code",
   "execution_count": null,
   "id": "aa6e59ca",
   "metadata": {},
   "outputs": [],
   "source": []
  }
 ],
 "metadata": {
  "kernelspec": {
   "display_name": "Python 3 (ipykernel)",
   "language": "python",
   "name": "python3"
  },
  "language_info": {
   "codemirror_mode": {
    "name": "ipython",
    "version": 3
   },
   "file_extension": ".py",
   "mimetype": "text/x-python",
   "name": "python",
   "nbconvert_exporter": "python",
   "pygments_lexer": "ipython3",
   "version": "3.9.12"
  }
 },
 "nbformat": 4,
 "nbformat_minor": 5
}
