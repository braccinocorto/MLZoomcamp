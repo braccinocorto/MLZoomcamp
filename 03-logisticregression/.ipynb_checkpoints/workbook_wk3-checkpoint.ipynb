{
 "cells": [
  {
   "cell_type": "code",
   "execution_count": 141,
   "id": "ba543606",
   "metadata": {},
   "outputs": [],
   "source": [
    "import pandas as pd\n",
    "import numpy as np\n",
    "import seaborn as sns\n",
    "\n",
    "from matplotlib import pyplot as plt\n",
    "df = pd.read_csv('housing.csv')\n"
   ]
  },
  {
   "cell_type": "code",
   "execution_count": 142,
   "id": "80dbd705",
   "metadata": {},
   "outputs": [],
   "source": [
    "base =[\n",
    "    'latitude',\n",
    "    'longitude',\n",
    "    'housing_median_age',\n",
    "    'total_rooms',\n",
    "    'total_bedrooms',\n",
    "    'population',\n",
    "    'households',\n",
    "    'median_income',\n",
    "    'median_house_value',\n",
    "    'ocean_proximity'\n",
    "]\n",
    "\n",
    "df_wrk = df[base]\n"
   ]
  },
  {
   "cell_type": "code",
   "execution_count": 143,
   "id": "ead45a9c",
   "metadata": {},
   "outputs": [
    {
     "data": {
      "text/plain": [
       "latitude                0\n",
       "longitude               0\n",
       "housing_median_age      0\n",
       "total_rooms             0\n",
       "total_bedrooms        207\n",
       "population              0\n",
       "households              0\n",
       "median_income           0\n",
       "median_house_value      0\n",
       "ocean_proximity         0\n",
       "dtype: int64"
      ]
     },
     "execution_count": 143,
     "metadata": {},
     "output_type": "execute_result"
    }
   ],
   "source": [
    "df_wrk.isnull().sum()\n"
   ]
  },
  {
   "cell_type": "code",
   "execution_count": 144,
   "id": "7d74081d",
   "metadata": {},
   "outputs": [],
   "source": [
    "df_ready = df_wrk.fillna(0)\n",
    "\n"
   ]
  },
  {
   "cell_type": "code",
   "execution_count": 145,
   "id": "6ca325d6",
   "metadata": {},
   "outputs": [
    {
     "data": {
      "text/plain": [
       "latitude              0\n",
       "longitude             0\n",
       "housing_median_age    0\n",
       "total_rooms           0\n",
       "total_bedrooms        0\n",
       "population            0\n",
       "households            0\n",
       "median_income         0\n",
       "median_house_value    0\n",
       "ocean_proximity       0\n",
       "dtype: int64"
      ]
     },
     "execution_count": 145,
     "metadata": {},
     "output_type": "execute_result"
    }
   ],
   "source": [
    "df_ready.isnull().sum()\n"
   ]
  },
  {
   "cell_type": "code",
   "execution_count": 146,
   "id": "41bab73c",
   "metadata": {},
   "outputs": [],
   "source": [
    "rooms_per_household = df_ready.total_rooms / df_ready.households\n",
    "bedrooms_per_room = df_ready.total_bedrooms / df_ready.total_rooms\n",
    "population_per_household = df_ready.population / df_ready.households\n"
   ]
  },
  {
   "cell_type": "code",
   "execution_count": 147,
   "id": "8e4166ee",
   "metadata": {},
   "outputs": [
    {
     "data": {
      "text/plain": [
       "0    <1H OCEAN\n",
       "Name: ocean_proximity, dtype: object"
      ]
     },
     "execution_count": 147,
     "metadata": {},
     "output_type": "execute_result"
    }
   ],
   "source": [
    "#Q1: What is the most frequent observation (mode) for the column ocean_proximity\n",
    "df_ready.ocean_proximity.mode()\n",
    "\n",
    "\n"
   ]
  },
  {
   "cell_type": "code",
   "execution_count": 148,
   "id": "41cf789f",
   "metadata": {
    "scrolled": true
   },
   "outputs": [
    {
     "data": {
      "text/plain": [
       "<AxesSubplot:xlabel='ocean_proximity', ylabel='Count'>"
      ]
     },
     "execution_count": 148,
     "metadata": {},
     "output_type": "execute_result"
    },
    {
     "data": {
      "image/png": "[encoded data removed]",
      "text/plain": [
       "<Figure size 432x288 with 1 Axes>"
      ]
     },
     "metadata": {
      "needs_background": "light"
     },
     "output_type": "display_data"
    }
   ],
   "source": [
    "\n",
    "plt.figure(figsize=(6, 4))\n",
    "\n",
    "sns.histplot(df.ocean_proximity, bins=40, color='black', alpha=1)"
   ]
  },
  {
   "cell_type": "code",
   "execution_count": 149,
   "id": "6a9d1943",
   "metadata": {},
   "outputs": [
    {
     "data": {
      "text/plain": [
       "latitude              0.002477\n",
       "longitude             0.091670\n",
       "housing_median_age    0.002477\n",
       "total_rooms           0.931546\n",
       "total_bedrooms        0.979399\n",
       "population            0.906841\n",
       "households            0.979399\n",
       "median_income         0.198951\n",
       "dtype: float64"
      ]
     },
     "execution_count": 149,
     "metadata": {},
     "output_type": "execute_result"
    }
   ],
   "source": [
    "from sklearn.model_selection import train_test_split\n",
    "\n",
    "y_prep = df_ready.median_house_value\n",
    "\n",
    "df_prep = df_ready.drop(columns='median_house_value')\n",
    "#drop the target value.\n",
    "\n",
    "#build train and validation set with sklearn\n",
    "\n",
    "df_train_full, df_test = train_test_split(df_prep, test_size=0.2, random_state=42)\n",
    "df_train, df_val = train_test_split(df_train_full, test_size=0.25, random_state=42)\n",
    "\n",
    "y_train_full, y_test = train_test_split(y_prep, test_size=0.2, random_state=42)\n",
    "y_train, y_val = train_test_split(y_train_full, test_size=0.25, random_state=42)\n",
    "\n",
    "\n",
    "#Q2 What are the two features that have the biggest correlation in this dataset?\n",
    "#[dataset: train dataset]\n",
    "\n",
    "#as it's a correlation request, the value that are being confronted are the numerical ones.\n",
    "\n",
    "\n",
    "\n",
    "df_train.dtypes\n",
    "\n",
    "numericals = [\n",
    "    'latitude',\n",
    "    'longitude',\n",
    "    'housing_median_age',\n",
    "    'total_rooms',\n",
    "    'total_bedrooms',\n",
    "    'population',\n",
    "    'households',\n",
    "    'median_income'\n",
    "]\n",
    "\n",
    "df_train_full[numericals].corrwith(y_prep).to_frame('correlation')\n",
    "\n",
    "\n",
    "#biggest correlation with the target: median_income, total_rooms\n",
    "#biggest negative correlation with the target: latitude\n",
    "\n",
    "\n",
    "corr_matrix = df_train[numericals].corr()\n",
    "corr_matrix\n",
    "\n",
    "corr_analyze = corr_matrix - np.eye(corr_matrix.shape[0])\n",
    "max_col = corr_analyze.max(axis=0)\n",
    "\n",
    "max_col\n"
   ]
  },
  {
   "cell_type": "code",
   "execution_count": 150,
   "id": "6feb9bcc",
   "metadata": {},
   "outputs": [],
   "source": [
    "mhv_mean = y_train.mean()\n",
    "mhv_truefalse = y_train > mhv_mean\n",
    "above_average_train = mhv_truefalse.astype(int)\n",
    "\n",
    "\n"
   ]
  },
  {
   "cell_type": "code",
   "execution_count": 151,
   "id": "98fa2cdb",
   "metadata": {},
   "outputs": [
    {
     "data": {
      "text/plain": [
       "0.1"
      ]
     },
     "execution_count": 151,
     "metadata": {},
     "output_type": "execute_result"
    }
   ],
   "source": [
    "#Q3\n",
    "\n",
    "from sklearn.metrics import mutual_info_score\n",
    "\n",
    "\n",
    "\n",
    "df_train.dtypes\n",
    "\n",
    "mi = mutual_info_score(df_train.ocean_proximity, above_average_train)\n",
    "answer = round(mi, 2)\n",
    "answer"
   ]
  },
  {
   "cell_type": "code",
   "execution_count": 152,
   "id": "b46859a8",
   "metadata": {},
   "outputs": [],
   "source": [
    "#train a logistic regression\n",
    "\n",
    "#1 - onehot encoding of the ocean_proximity column.\n",
    "\n",
    "\n",
    "from sklearn.feature_extraction import DictVectorizer\n",
    "\n",
    "train_dict = df_train.to_dict(orient='records')\n",
    "\n",
    "dv = DictVectorizer(sparse=False)\n",
    "dv.fit(train_dict)\n",
    "\n",
    "X_train = dv.transform(train_dict)\n",
    "\n",
    "#dv.get_feature_names()\n",
    "\n"
   ]
  },
  {
   "cell_type": "code",
   "execution_count": 153,
   "id": "7c7c49fc",
   "metadata": {},
   "outputs": [
    {
     "name": "stdout",
     "output_type": "stream",
     "text": [
      "(12384,)\n",
      "(4128,)\n",
      "(4128,)\n",
      "0.4076227390180879\n",
      "0.40818798449612403\n",
      "0.4001937984496124\n"
     ]
    },
    {
     "data": {
      "text/plain": [
       "array([ 4.05128749e-03,  3.44833403e-02,  1.15140248e-01,  8.58393444e-02,\n",
       "        1.18291096e+00,  4.65184484e-01, -1.72868930e+00,  1.26341810e-02,\n",
       "        3.38409961e-01,  8.45751119e-01, -1.60078634e-03,  1.71074465e-03,\n",
       "       -1.50761817e-04])"
      ]
     },
     "metadata": {},
     "output_type": "display_data"
    },
    {
     "data": {
      "text/plain": [
       "0.84"
      ]
     },
     "execution_count": 153,
     "metadata": {},
     "output_type": "execute_result"
    }
   ],
   "source": [
    "from sklearn.linear_model import LogisticRegression\n",
    "\n",
    "# in order to fit the model with a binary target (as the logistic Regression requires a binary target (or a class), not a value).\n",
    "# we need to 'transform' the y_value to the binary value, which is \"above the mean/below the mean value\"\n",
    "# so we repat what we did before, with more readable variables and with all the segments of the dataset (which splitted \n",
    "# even the y vector)\n",
    "\n",
    "mhv_mean = y_train.mean()\n",
    "mhv_truefalse = y_train > mhv_mean\n",
    "above_average_train = mhv_truefalse.astype(int)\n",
    "\n",
    "mhv2_truefalse = y_val > mhv_mean\n",
    "above_average_val = mhv2_truefalse.astype(int)\n",
    "\n",
    "\n",
    "mhv3_truefalse = y_test > mhv_mean\n",
    "above_average_test = mhv3_truefalse.astype(int)\n",
    "\n",
    "print(above_average_train.shape)\n",
    "print(above_average_val.shape)\n",
    "print(above_average_test.shape)\n",
    "print(above_average_train.mean())\n",
    "print(above_average_val.mean())\n",
    "print(above_average_test.mean())\n",
    "\n",
    "from IPython.display import display\n",
    "\n",
    "model = LogisticRegression(solver=\"liblinear\", C=1.0, max_iter=1000, random_state=42)\n",
    "model.fit(X_train, above_average_train)\n",
    "\n",
    "display(model.coef_[0])\n",
    "\n",
    "\n",
    "# we fit the model.\n",
    "# Question 4\n",
    "# now, let's calculate the accuracy of this model with the values of the validation dataset.\n",
    "\n",
    "\n",
    "val_dict = df_val.to_dict(orient='records')\n",
    "\n",
    "dv2 = DictVectorizer(sparse=False)\n",
    "dv2.fit(val_dict)\n",
    "\n",
    "X_val = dv2.transform(val_dict)\n",
    "\n",
    "#val_dict = df_val.to_dict(orient='records')\n",
    "#X_val = dv.transform(val_dict)\n",
    "\n",
    "\n",
    "# predict fornisce il risultato binario\n",
    "\n",
    "y_pred = model.predict(X_val)\n",
    "\n",
    "# now evaluate the accuracy:\n",
    "accu = round((y_pred == above_average_val).mean(),2)\n",
    "\n",
    "accu\n"
   ]
  },
  {
   "cell_type": "code",
   "execution_count": 155,
   "id": "7b4a1bfd",
   "metadata": {},
   "outputs": [
    {
     "name": "stdout",
     "output_type": "stream",
     "text": [
      "       latitude  longitude  housing_median_age  total_rooms  total_bedrooms  \\\n",
      "17244     34.43    -119.67                39.0       1467.0           381.0   \n",
      "8817      33.74    -118.32                24.0       6097.0           794.0   \n",
      "19686     39.13    -121.62                41.0       1317.0           309.0   \n",
      "3545      34.24    -118.63                 9.0       4759.0           924.0   \n",
      "17019     37.52    -122.30                38.0       2769.0           387.0   \n",
      "\n",
      "       population  households  median_income ocean_proximity  \n",
      "17244      1404.0       374.0         2.3681       <1H OCEAN  \n",
      "8817       2248.0       806.0        10.1357      NEAR OCEAN  \n",
      "19686       856.0       337.0         1.6719          INLAND  \n",
      "3545       1884.0       915.0         4.8333       <1H OCEAN  \n",
      "17019       994.0       395.0         5.5902      NEAR OCEAN  \n",
      "       latitude  longitude  housing_median_age  total_rooms  total_bedrooms  \\\n",
      "2071      36.74    -119.85                35.0       1191.0           190.0   \n",
      "2612      41.02    -124.16                23.0       1672.0           385.0   \n",
      "10838     33.67    -117.92                14.0       6224.0          1679.0   \n",
      "4061      34.15    -118.45                10.0       1091.0           260.0   \n",
      "10767     33.63    -117.90                28.0       2370.0           352.0   \n",
      "\n",
      "       population  households  median_income ocean_proximity  \n",
      "2071        537.0       182.0         3.5375          INLAND  \n",
      "2612       1060.0       390.0         2.1726      NEAR OCEAN  \n",
      "10838      3148.0      1589.0         4.2071       <1H OCEAN  \n",
      "4061        517.0       266.0         4.1727       <1H OCEAN  \n",
      "10767       832.0       347.0         7.1148       <1H OCEAN  \n",
      "============\n",
      "latitude\n",
      "0.83\n",
      " Difference:\n",
      "-0.010000000000000009\n",
      "============\n",
      "============\n",
      "longitude\n",
      "0.83\n",
      " Difference:\n",
      "-0.010000000000000009\n",
      "============\n",
      "============\n",
      "housing_median_age\n",
      "0.83\n",
      " Difference:\n",
      "-0.010000000000000009\n",
      "============\n",
      "============\n",
      "total_rooms\n",
      "0.84\n",
      " Difference:\n",
      "-0.020000000000000018\n",
      "============\n",
      "============\n",
      "total_bedrooms\n",
      "0.84\n",
      " Difference:\n",
      "-0.020000000000000018\n",
      "============\n",
      "============\n",
      "population\n",
      "0.82\n",
      " Difference:\n",
      "0.0\n",
      "============\n",
      "============\n",
      "households\n",
      "0.83\n",
      " Difference:\n",
      "-0.010000000000000009\n",
      "============\n",
      "============\n",
      "median_income\n",
      "0.79\n",
      " Difference:\n",
      "0.029999999999999916\n",
      "============\n",
      "============\n",
      "ocean_proximity\n",
      "0.82\n",
      " Difference:\n",
      "0.0\n",
      "============\n"
     ]
    }
   ],
   "source": [
    "# Q5\n",
    "# find the least useful feature.\n",
    "\n",
    "\n",
    "model = LogisticRegression(solver=\"liblinear\", C=1.0, max_iter=1000, random_state=42)\n",
    "model.fit(X_train, above_average_train)\n",
    "\n",
    "\n",
    "\n",
    "print(df_train.head())\n",
    "print(df_val.head())\n",
    "\n",
    "original_accu = accu\n",
    "\n",
    "col = list(df_train)\n",
    "\n",
    "#print(col)\n",
    "\n",
    "for field in col:\n",
    "    df_copy = df_train\n",
    "    df_val_copy = df_val\n",
    "    df_copy = df_copy.drop(columns= field)\n",
    "    df_val_copy = df_val_copy.drop(columns= field)\n",
    "\n",
    "    val_dict = df_val_copy.to_dict(orient='records')\n",
    "    dv2 = DictVectorizer(sparse=False)\n",
    "    dv2.fit(val_dict)\n",
    "    X_val = dv2.transform(val_dict)\n",
    "    \n",
    "    df_dict = df_copy.to_dict(orient='records')\n",
    "    dv3 = DictVectorizer(sparse=False)\n",
    "    dv3.fit(df_dict)\n",
    "    X_monco = dv3.transform(df_dict)\n",
    "    model = LogisticRegression(solver=\"liblinear\", C=1.0, max_iter=1000, random_state=42)\n",
    "    model.fit(X_monco, above_average_train)\n",
    "    y_pred = model.predict(X_val)\n",
    "    # now evaluate the accuracy:\n",
    "    accu = round((y_pred == above_average_val).mean(),2)\n",
    "    print('============' )\n",
    "    print(field)\n",
    "    print(accu)\n",
    "    print(' Difference:')\n",
    "    print(original_accu - accu )\n",
    "    print('============' )\n",
    "\n",
    "\n",
    "\n",
    "\n",
    "\n",
    "\n"
   ]
  },
  {
   "cell_type": "code",
   "execution_count": 163,
   "id": "03cc70c7",
   "metadata": {},
   "outputs": [
    {
     "name": "stdout",
     "output_type": "stream",
     "text": [
      "17244    12.394215\n",
      "8817     13.122367\n",
      "19686    11.068215\n",
      "3545     12.532498\n",
      "17019    12.940844\n",
      "           ...    \n",
      "5606     11.946012\n",
      "16339    11.894105\n",
      "14965    12.279792\n",
      "11117    11.842236\n",
      "8472     12.107914\n",
      "Name: median_house_value, Length: 12384, dtype: float64\n",
      "2071     11.479379\n",
      "2612     11.231901\n",
      "10838    12.973634\n",
      "4061     12.714699\n",
      "10767    13.122367\n",
      "           ...    \n",
      "2285     11.303451\n",
      "16904    12.751303\n",
      "18139    12.748981\n",
      "11471    12.868248\n",
      "788      12.123783\n",
      "Name: median_house_value, Length: 4128, dtype: float64\n",
      "[[ 182.     35.     36.74 ...  537.    190.   1191.  ]\n",
      " [ 390.     23.     41.02 ... 1060.    385.   1672.  ]\n",
      " [1589.     14.     33.67 ... 3148.   1679.   6224.  ]\n",
      " ...\n",
      " [ 582.     31.     37.34 ... 1493.    526.   3080.  ]\n",
      " [ 632.     34.     33.67 ... 1521.    667.   3712.  ]\n",
      " [ 292.     32.     37.64 ...  836.    284.   1578.  ]]\n",
      "[[ 374.     39.     34.43 ... 1404.    381.   1467.  ]\n",
      " [ 806.     24.     33.74 ... 2248.    794.   6097.  ]\n",
      " [ 337.     41.     39.13 ...  856.    309.   1317.  ]\n",
      " ...\n",
      " [ 602.     18.     32.74 ... 1952.    611.   3341.  ]\n",
      " [ 350.     16.     33.84 ...  730.    354.   1545.  ]\n",
      " [ 215.     35.     33.91 ...  640.    197.    940.  ]]\n",
      "Alpha:  0 - RMSE:  0.524666571952129\n",
      "[[ 182.     35.     36.74 ...  537.    190.   1191.  ]\n",
      " [ 390.     23.     41.02 ... 1060.    385.   1672.  ]\n",
      " [1589.     14.     33.67 ... 3148.   1679.   6224.  ]\n",
      " ...\n",
      " [ 582.     31.     37.34 ... 1493.    526.   3080.  ]\n",
      " [ 632.     34.     33.67 ... 1521.    667.   3712.  ]\n",
      " [ 292.     32.     37.64 ...  836.    284.   1578.  ]]\n",
      "[[ 374.     39.     34.43 ... 1404.    381.   1467.  ]\n",
      " [ 806.     24.     33.74 ... 2248.    794.   6097.  ]\n",
      " [ 337.     41.     39.13 ...  856.    309.   1317.  ]\n",
      " ...\n",
      " [ 602.     18.     32.74 ... 1952.    611.   3341.  ]\n",
      " [ 350.     16.     33.84 ...  730.    354.   1545.  ]\n",
      " [ 215.     35.     33.91 ...  640.    197.    940.  ]]\n",
      "Alpha:  0.01 - RMSE:  0.5246665719679868\n",
      "[[ 182.     35.     36.74 ...  537.    190.   1191.  ]\n",
      " [ 390.     23.     41.02 ... 1060.    385.   1672.  ]\n",
      " [1589.     14.     33.67 ... 3148.   1679.   6224.  ]\n",
      " ...\n",
      " [ 582.     31.     37.34 ... 1493.    526.   3080.  ]\n",
      " [ 632.     34.     33.67 ... 1521.    667.   3712.  ]\n",
      " [ 292.     32.     37.64 ...  836.    284.   1578.  ]]\n",
      "[[ 374.     39.     34.43 ... 1404.    381.   1467.  ]\n",
      " [ 806.     24.     33.74 ... 2248.    794.   6097.  ]\n",
      " [ 337.     41.     39.13 ...  856.    309.   1317.  ]\n",
      " ...\n",
      " [ 602.     18.     32.74 ... 1952.    611.   3341.  ]\n",
      " [ 350.     16.     33.84 ...  730.    354.   1545.  ]\n",
      " [ 215.     35.     33.91 ...  640.    197.    940.  ]]\n",
      "Alpha:  0.1 - RMSE:  0.5246665721186238\n",
      "[[ 182.     35.     36.74 ...  537.    190.   1191.  ]\n",
      " [ 390.     23.     41.02 ... 1060.    385.   1672.  ]\n",
      " [1589.     14.     33.67 ... 3148.   1679.   6224.  ]\n",
      " ...\n",
      " [ 582.     31.     37.34 ... 1493.    526.   3080.  ]\n",
      " [ 632.     34.     33.67 ... 1521.    667.   3712.  ]\n",
      " [ 292.     32.     37.64 ...  836.    284.   1578.  ]]\n",
      "[[ 374.     39.     34.43 ... 1404.    381.   1467.  ]\n",
      " [ 806.     24.     33.74 ... 2248.    794.   6097.  ]\n",
      " [ 337.     41.     39.13 ...  856.    309.   1317.  ]\n",
      " ...\n",
      " [ 602.     18.     32.74 ... 1952.    611.   3341.  ]\n",
      " [ 350.     16.     33.84 ...  730.    354.   1545.  ]\n",
      " [ 215.     35.     33.91 ...  640.    197.    940.  ]]\n",
      "Alpha:  1 - RMSE:  0.5246665736329141\n",
      "[[ 182.     35.     36.74 ...  537.    190.   1191.  ]\n",
      " [ 390.     23.     41.02 ... 1060.    385.   1672.  ]\n",
      " [1589.     14.     33.67 ... 3148.   1679.   6224.  ]\n",
      " ...\n",
      " [ 582.     31.     37.34 ... 1493.    526.   3080.  ]\n",
      " [ 632.     34.     33.67 ... 1521.    667.   3712.  ]\n",
      " [ 292.     32.     37.64 ...  836.    284.   1578.  ]]\n",
      "[[ 374.     39.     34.43 ... 1404.    381.   1467.  ]\n",
      " [ 806.     24.     33.74 ... 2248.    794.   6097.  ]\n",
      " [ 337.     41.     39.13 ...  856.    309.   1317.  ]\n",
      " ...\n",
      " [ 602.     18.     32.74 ... 1952.    611.   3341.  ]\n",
      " [ 350.     16.     33.84 ...  730.    354.   1545.  ]\n",
      " [ 215.     35.     33.91 ...  640.    197.    940.  ]]\n",
      "Alpha:  10 - RMSE:  0.5246665887520299\n"
     ]
    }
   ],
   "source": [
    "#Question 6\n",
    "\n",
    "y_prep = df_ready.median_house_value\n",
    "\n",
    "log_train_mhv = np.log1p(y_train)\n",
    "log_val_mhv = np.log1p(y_val)\n",
    "\n",
    "print(log_train_mhv)\n",
    "print(log_val_mhv)\n",
    "\n",
    "alphavalues = [0, 0.01, 0.1, 1, 10]\n",
    "\n",
    "def rmse(y, y_pred):\n",
    "    error = y_pred - y\n",
    "    mse = (error ** 2).mean()\n",
    "    return np.sqrt(mse)\n",
    "\n",
    "from sklearn import linear_model\n",
    "\n",
    "for a in alphavalues:\n",
    "    model = linear_model.Ridge(alpha=a, solver=\"sag\", random_state=42)\n",
    "    \n",
    "    val_dict = df_val.to_dict(orient='records')\n",
    "    dv2 = DictVectorizer(sparse=False)\n",
    "    dv2.fit(val_dict)\n",
    "    X_val = dv2.transform(val_dict)\n",
    "    \n",
    "    df_dict = df_train.to_dict(orient='records')\n",
    "    dv3 = DictVectorizer(sparse=False)\n",
    "    dv3.fit(df_dict)\n",
    "    X_monco = dv3.transform(df_dict)\n",
    "    \n",
    "    model.fit(X_monco, log_train_mhv)\n",
    "    y_pred = model.predict(X_val)\n",
    "    rmsevalue = rmse(log_val_mhv, y_pred)\n",
    "    print('Alpha: ', a, '- RMSE: ',rmsevalue)\n",
    "    "
   ]
  },
  {
   "cell_type": "code",
   "execution_count": null,
   "id": "90b5051b",
   "metadata": {},
   "outputs": [],
   "source": []
  }
 ],
 "metadata": {
  "kernelspec": {
   "display_name": "Python 3 (ipykernel)",
   "language": "python",
   "name": "python3"
  },
  "language_info": {
   "codemirror_mode": {
    "name": "ipython",
    "version": 3
   },
   "file_extension": ".py",
   "mimetype": "text/x-python",
   "name": "python",
   "nbconvert_exporter": "python",
   "pygments_lexer": "ipython3",
   "version": "3.9.12"
  }
 },
 "nbformat": 4,
 "nbformat_minor": 5
}
