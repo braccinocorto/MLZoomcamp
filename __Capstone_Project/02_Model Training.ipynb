{
 "cells": [
  {
   "cell_type": "code",
   "execution_count": 2,
   "id": "b507c77f",
   "metadata": {},
   "outputs": [
    {
     "data": {
      "text/html": [
       "<div>\n",
       "<style scoped>\n",
       "    .dataframe tbody tr th:only-of-type {\n",
       "        vertical-align: middle;\n",
       "    }\n",
       "\n",
       "    .dataframe tbody tr th {\n",
       "        vertical-align: top;\n",
       "    }\n",
       "\n",
       "    .dataframe thead th {\n",
       "        text-align: right;\n",
       "    }\n",
       "</style>\n",
       "<table border=\"1\" class=\"dataframe\">\n",
       "  <thead>\n",
       "    <tr style=\"text-align: right;\">\n",
       "      <th></th>\n",
       "      <th>danceability</th>\n",
       "      <th>energy</th>\n",
       "      <th>loudness</th>\n",
       "      <th>speechiness</th>\n",
       "      <th>acousticness</th>\n",
       "      <th>instrumentalness</th>\n",
       "      <th>liveness</th>\n",
       "      <th>valence</th>\n",
       "      <th>tempo</th>\n",
       "      <th>key</th>\n",
       "      <th>mode</th>\n",
       "      <th>duration_ms</th>\n",
       "      <th>time_signature</th>\n",
       "      <th>popularity</th>\n",
       "    </tr>\n",
       "  </thead>\n",
       "  <tbody>\n",
       "    <tr>\n",
       "      <th>count</th>\n",
       "      <td>4271.000000</td>\n",
       "      <td>4271.000000</td>\n",
       "      <td>4271.000000</td>\n",
       "      <td>4271.000000</td>\n",
       "      <td>4271.000000</td>\n",
       "      <td>4271.000000</td>\n",
       "      <td>4271.000000</td>\n",
       "      <td>4271.000000</td>\n",
       "      <td>4271.000000</td>\n",
       "      <td>4271.000000</td>\n",
       "      <td>4271.000000</td>\n",
       "      <td>4.271000e+03</td>\n",
       "      <td>4271.000000</td>\n",
       "      <td>4271.000000</td>\n",
       "    </tr>\n",
       "    <tr>\n",
       "      <th>mean</th>\n",
       "      <td>0.616592</td>\n",
       "      <td>0.596990</td>\n",
       "      <td>-8.814688</td>\n",
       "      <td>0.081906</td>\n",
       "      <td>0.304600</td>\n",
       "      <td>0.147850</td>\n",
       "      <td>0.175377</td>\n",
       "      <td>0.482016</td>\n",
       "      <td>119.304114</td>\n",
       "      <td>5.211426</td>\n",
       "      <td>0.644580</td>\n",
       "      <td>2.051304e+05</td>\n",
       "      <td>3.943573</td>\n",
       "      <td>71.680403</td>\n",
       "    </tr>\n",
       "    <tr>\n",
       "      <th>std</th>\n",
       "      <td>0.171489</td>\n",
       "      <td>0.257139</td>\n",
       "      <td>6.473208</td>\n",
       "      <td>0.086027</td>\n",
       "      <td>0.335135</td>\n",
       "      <td>0.313641</td>\n",
       "      <td>0.140734</td>\n",
       "      <td>0.254416</td>\n",
       "      <td>28.021704</td>\n",
       "      <td>3.648877</td>\n",
       "      <td>0.478697</td>\n",
       "      <td>6.072841e+04</td>\n",
       "      <td>0.281099</td>\n",
       "      <td>12.451280</td>\n",
       "    </tr>\n",
       "    <tr>\n",
       "      <th>min</th>\n",
       "      <td>0.061100</td>\n",
       "      <td>0.000283</td>\n",
       "      <td>-41.665000</td>\n",
       "      <td>0.022700</td>\n",
       "      <td>0.000009</td>\n",
       "      <td>0.000000</td>\n",
       "      <td>0.010400</td>\n",
       "      <td>0.023800</td>\n",
       "      <td>31.270000</td>\n",
       "      <td>0.000000</td>\n",
       "      <td>0.000000</td>\n",
       "      <td>6.876000e+04</td>\n",
       "      <td>3.000000</td>\n",
       "      <td>0.000000</td>\n",
       "    </tr>\n",
       "    <tr>\n",
       "      <th>25%</th>\n",
       "      <td>0.516000</td>\n",
       "      <td>0.437000</td>\n",
       "      <td>-10.068000</td>\n",
       "      <td>0.035700</td>\n",
       "      <td>0.029800</td>\n",
       "      <td>0.000000</td>\n",
       "      <td>0.092700</td>\n",
       "      <td>0.272000</td>\n",
       "      <td>98.029500</td>\n",
       "      <td>2.000000</td>\n",
       "      <td>0.000000</td>\n",
       "      <td>1.670670e+05</td>\n",
       "      <td>4.000000</td>\n",
       "      <td>64.000000</td>\n",
       "    </tr>\n",
       "    <tr>\n",
       "      <th>50%</th>\n",
       "      <td>0.634000</td>\n",
       "      <td>0.655000</td>\n",
       "      <td>-6.781000</td>\n",
       "      <td>0.047200</td>\n",
       "      <td>0.149000</td>\n",
       "      <td>0.000016</td>\n",
       "      <td>0.117000</td>\n",
       "      <td>0.478000</td>\n",
       "      <td>120.032000</td>\n",
       "      <td>5.000000</td>\n",
       "      <td>1.000000</td>\n",
       "      <td>1.965200e+05</td>\n",
       "      <td>4.000000</td>\n",
       "      <td>74.000000</td>\n",
       "    </tr>\n",
       "    <tr>\n",
       "      <th>75%</th>\n",
       "      <td>0.739500</td>\n",
       "      <td>0.802000</td>\n",
       "      <td>-5.022500</td>\n",
       "      <td>0.083000</td>\n",
       "      <td>0.555500</td>\n",
       "      <td>0.010300</td>\n",
       "      <td>0.211500</td>\n",
       "      <td>0.688000</td>\n",
       "      <td>135.001500</td>\n",
       "      <td>8.000000</td>\n",
       "      <td>1.000000</td>\n",
       "      <td>2.350000e+05</td>\n",
       "      <td>4.000000</td>\n",
       "      <td>80.000000</td>\n",
       "    </tr>\n",
       "    <tr>\n",
       "      <th>max</th>\n",
       "      <td>0.967000</td>\n",
       "      <td>0.996000</td>\n",
       "      <td>-0.514000</td>\n",
       "      <td>0.906000</td>\n",
       "      <td>0.996000</td>\n",
       "      <td>0.995000</td>\n",
       "      <td>0.970000</td>\n",
       "      <td>0.980000</td>\n",
       "      <td>219.483000</td>\n",
       "      <td>11.000000</td>\n",
       "      <td>1.000000</td>\n",
       "      <td>1.622576e+06</td>\n",
       "      <td>5.000000</td>\n",
       "      <td>100.000000</td>\n",
       "    </tr>\n",
       "  </tbody>\n",
       "</table>\n",
       "</div>"
      ],
      "text/plain": [
       "       danceability       energy     loudness  speechiness  acousticness  \\\n",
       "count   4271.000000  4271.000000  4271.000000  4271.000000   4271.000000   \n",
       "mean       0.616592     0.596990    -8.814688     0.081906      0.304600   \n",
       "std        0.171489     0.257139     6.473208     0.086027      0.335135   \n",
       "min        0.061100     0.000283   -41.665000     0.022700      0.000009   \n",
       "25%        0.516000     0.437000   -10.068000     0.035700      0.029800   \n",
       "50%        0.634000     0.655000    -6.781000     0.047200      0.149000   \n",
       "75%        0.739500     0.802000    -5.022500     0.083000      0.555500   \n",
       "max        0.967000     0.996000    -0.514000     0.906000      0.996000   \n",
       "\n",
       "       instrumentalness     liveness      valence        tempo          key  \\\n",
       "count       4271.000000  4271.000000  4271.000000  4271.000000  4271.000000   \n",
       "mean           0.147850     0.175377     0.482016   119.304114     5.211426   \n",
       "std            0.313641     0.140734     0.254416    28.021704     3.648877   \n",
       "min            0.000000     0.010400     0.023800    31.270000     0.000000   \n",
       "25%            0.000000     0.092700     0.272000    98.029500     2.000000   \n",
       "50%            0.000016     0.117000     0.478000   120.032000     5.000000   \n",
       "75%            0.010300     0.211500     0.688000   135.001500     8.000000   \n",
       "max            0.995000     0.970000     0.980000   219.483000    11.000000   \n",
       "\n",
       "              mode   duration_ms  time_signature   popularity  \n",
       "count  4271.000000  4.271000e+03     4271.000000  4271.000000  \n",
       "mean      0.644580  2.051304e+05        3.943573    71.680403  \n",
       "std       0.478697  6.072841e+04        0.281099    12.451280  \n",
       "min       0.000000  6.876000e+04        3.000000     0.000000  \n",
       "25%       0.000000  1.670670e+05        4.000000    64.000000  \n",
       "50%       1.000000  1.965200e+05        4.000000    74.000000  \n",
       "75%       1.000000  2.350000e+05        4.000000    80.000000  \n",
       "max       1.000000  1.622576e+06        5.000000   100.000000  "
      ]
     },
     "execution_count": 2,
     "metadata": {},
     "output_type": "execute_result"
    }
   ],
   "source": [
    "import pandas as pd\n",
    "import numpy as np\n",
    "df = pd.read_csv('preprocessed_df.csv', header=0)\n",
    "df.describe()"
   ]
  },
  {
   "cell_type": "code",
   "execution_count": 3,
   "id": "cde36e9e",
   "metadata": {},
   "outputs": [
    {
     "data": {
      "text/plain": [
       "(4271, 20)"
      ]
     },
     "execution_count": 3,
     "metadata": {},
     "output_type": "execute_result"
    }
   ],
   "source": [
    "df.shape"
   ]
  },
  {
   "cell_type": "code",
   "execution_count": 4,
   "id": "8e267f8d",
   "metadata": {},
   "outputs": [
    {
     "data": {
      "text/plain": [
       "Index(['danceability', 'energy', 'loudness', 'speechiness', 'acousticness',\n",
       "       'instrumentalness', 'liveness', 'valence', 'tempo', 'key', 'mode',\n",
       "       'duration_ms', 'time_signature', 'popularity', 'release_date',\n",
       "       'track_title', 'track_artist', 'playlist_id', 'playlist_name', 'id'],\n",
       "      dtype='object')"
      ]
     },
     "execution_count": 4,
     "metadata": {},
     "output_type": "execute_result"
    }
   ],
   "source": [
    "df.columns"
   ]
  },
  {
   "cell_type": "code",
   "execution_count": 5,
   "id": "5fff9bc7",
   "metadata": {},
   "outputs": [],
   "source": [
    "df['idx'] = df.groupby(['playlist_id']).ngroup()"
   ]
  },
  {
   "cell_type": "code",
   "execution_count": 7,
   "id": "80d69d5f",
   "metadata": {},
   "outputs": [],
   "source": [
    "res = dict(zip(df.idx, df.playlist_name))"
   ]
  },
  {
   "cell_type": "code",
   "execution_count": 8,
   "id": "bd32a359",
   "metadata": {},
   "outputs": [
    {
     "data": {
      "text/plain": [
       "{44: \"Today's Top Hits\",\n",
       " 1: 'Top 50 - Global',\n",
       " 19: 'RapCaviar',\n",
       " 21: 'Viva Latino',\n",
       " 14: 'Baila Reggaeton',\n",
       " 11: 'Rock Classics',\n",
       " 8: 'Songs to Sing in the Car',\n",
       " 32: 'All Out 2000s',\n",
       " 28: 'All Out 80s',\n",
       " 37: 'Beast Mode',\n",
       " 43: 'All Out 90s',\n",
       " 29: 'Chill Hits',\n",
       " 26: 'Mood Booster',\n",
       " 23: 'Hot Country',\n",
       " 3: 'Songs to Sing in the Shower',\n",
       " 22: \"I Love My '90s Hip-Hop\",\n",
       " 33: 'Peaceful Piano',\n",
       " 0: 'Study lofi 📚',\n",
       " 48: 'Esquenta Sertanejo',\n",
       " 17: 'This Is BTS',\n",
       " 13: 'Get Turnt',\n",
       " 49: 'Motivation Mix',\n",
       " 30: 'mint',\n",
       " 47: 'Happy Hits!',\n",
       " 34: 'Pop Up',\n",
       " 38: 'Have a Great Day!',\n",
       " 20: 'Christmas Hits',\n",
       " 42: 'Dance Party',\n",
       " 24: '90s Rock Anthems',\n",
       " 45: 'Rock This',\n",
       " 36: 'Workout',\n",
       " 4: 'All Out 70s',\n",
       " 41: 'Classic Road Trip Songs',\n",
       " 9: 'lofi beats',\n",
       " 15: 'Sleep',\n",
       " 46: 'Hot Hits Philippines',\n",
       " 5: 'Top Gaming Tracks',\n",
       " 35: 'Your Favorite Coffeehouse',\n",
       " 7: 'Power Workout',\n",
       " 27: 'New Music Friday',\n",
       " 12: 'Acoustic Covers',\n",
       " 6: 'Acoustic Hits: Oldies but Goodies',\n",
       " 16: 'Deep Focus',\n",
       " 31: 'Confidence Boost',\n",
       " 10: 'Brain Food',\n",
       " 40: 'K-Pop ON! (온)',\n",
       " 18: 'Dance Hits',\n",
       " 2: 'Cardio',\n",
       " 39: \"Feelin' Good\",\n",
       " 25: 'Life Sucks'}"
      ]
     },
     "execution_count": 8,
     "metadata": {},
     "output_type": "execute_result"
    }
   ],
   "source": [
    "res"
   ]
  },
  {
   "cell_type": "code",
   "execution_count": 33,
   "id": "6c0b5adc",
   "metadata": {},
   "outputs": [],
   "source": [
    "y_prep = df.idx\n",
    "df_prep = df.drop(columns=['track_title', 'track_artist', 'playlist_id', 'playlist_name', 'id'])\n"
   ]
  },
  {
   "cell_type": "code",
   "execution_count": 34,
   "id": "3e3ed685",
   "metadata": {},
   "outputs": [
    {
     "data": {
      "text/html": [
       "<div>\n",
       "<style scoped>\n",
       "    .dataframe tbody tr th:only-of-type {\n",
       "        vertical-align: middle;\n",
       "    }\n",
       "\n",
       "    .dataframe tbody tr th {\n",
       "        vertical-align: top;\n",
       "    }\n",
       "\n",
       "    .dataframe thead th {\n",
       "        text-align: right;\n",
       "    }\n",
       "</style>\n",
       "<table border=\"1\" class=\"dataframe\">\n",
       "  <thead>\n",
       "    <tr style=\"text-align: right;\">\n",
       "      <th></th>\n",
       "      <th>danceability</th>\n",
       "      <th>energy</th>\n",
       "      <th>loudness</th>\n",
       "      <th>speechiness</th>\n",
       "      <th>acousticness</th>\n",
       "      <th>instrumentalness</th>\n",
       "      <th>liveness</th>\n",
       "      <th>valence</th>\n",
       "      <th>tempo</th>\n",
       "      <th>key</th>\n",
       "      <th>mode</th>\n",
       "      <th>duration_ms</th>\n",
       "      <th>time_signature</th>\n",
       "      <th>popularity</th>\n",
       "      <th>release_date</th>\n",
       "      <th>idx</th>\n",
       "    </tr>\n",
       "  </thead>\n",
       "  <tbody>\n",
       "    <tr>\n",
       "      <th>0</th>\n",
       "      <td>0.358</td>\n",
       "      <td>0.284</td>\n",
       "      <td>-8.285</td>\n",
       "      <td>0.0285</td>\n",
       "      <td>0.8050</td>\n",
       "      <td>0.000000</td>\n",
       "      <td>0.1830</td>\n",
       "      <td>0.276</td>\n",
       "      <td>99.796</td>\n",
       "      <td>7</td>\n",
       "      <td>1</td>\n",
       "      <td>180853</td>\n",
       "      <td>3</td>\n",
       "      <td>85</td>\n",
       "      <td>2022-12-09</td>\n",
       "      <td>44</td>\n",
       "    </tr>\n",
       "    <tr>\n",
       "      <th>1</th>\n",
       "      <td>0.637</td>\n",
       "      <td>0.643</td>\n",
       "      <td>-6.571</td>\n",
       "      <td>0.0519</td>\n",
       "      <td>0.1300</td>\n",
       "      <td>0.000002</td>\n",
       "      <td>0.1420</td>\n",
       "      <td>0.533</td>\n",
       "      <td>97.008</td>\n",
       "      <td>4</td>\n",
       "      <td>1</td>\n",
       "      <td>200690</td>\n",
       "      <td>4</td>\n",
       "      <td>97</td>\n",
       "      <td>2022-10-21</td>\n",
       "      <td>44</td>\n",
       "    </tr>\n",
       "    <tr>\n",
       "      <th>2</th>\n",
       "      <td>0.714</td>\n",
       "      <td>0.472</td>\n",
       "      <td>-7.375</td>\n",
       "      <td>0.0864</td>\n",
       "      <td>0.0130</td>\n",
       "      <td>0.000005</td>\n",
       "      <td>0.2660</td>\n",
       "      <td>0.238</td>\n",
       "      <td>131.121</td>\n",
       "      <td>2</td>\n",
       "      <td>1</td>\n",
       "      <td>156943</td>\n",
       "      <td>4</td>\n",
       "      <td>100</td>\n",
       "      <td>2022-09-22</td>\n",
       "      <td>44</td>\n",
       "    </tr>\n",
       "    <tr>\n",
       "      <th>3</th>\n",
       "      <td>0.780</td>\n",
       "      <td>0.689</td>\n",
       "      <td>-5.668</td>\n",
       "      <td>0.1410</td>\n",
       "      <td>0.0368</td>\n",
       "      <td>0.000010</td>\n",
       "      <td>0.0698</td>\n",
       "      <td>0.642</td>\n",
       "      <td>115.042</td>\n",
       "      <td>7</td>\n",
       "      <td>1</td>\n",
       "      <td>225389</td>\n",
       "      <td>4</td>\n",
       "      <td>93</td>\n",
       "      <td>2022-07-29</td>\n",
       "      <td>44</td>\n",
       "    </tr>\n",
       "    <tr>\n",
       "      <th>4</th>\n",
       "      <td>0.715</td>\n",
       "      <td>0.620</td>\n",
       "      <td>-6.005</td>\n",
       "      <td>0.0484</td>\n",
       "      <td>0.4170</td>\n",
       "      <td>0.000000</td>\n",
       "      <td>0.0822</td>\n",
       "      <td>0.172</td>\n",
       "      <td>97.950</td>\n",
       "      <td>1</td>\n",
       "      <td>0</td>\n",
       "      <td>221520</td>\n",
       "      <td>4</td>\n",
       "      <td>89</td>\n",
       "      <td>2022-12-02</td>\n",
       "      <td>44</td>\n",
       "    </tr>\n",
       "    <tr>\n",
       "      <th>...</th>\n",
       "      <td>...</td>\n",
       "      <td>...</td>\n",
       "      <td>...</td>\n",
       "      <td>...</td>\n",
       "      <td>...</td>\n",
       "      <td>...</td>\n",
       "      <td>...</td>\n",
       "      <td>...</td>\n",
       "      <td>...</td>\n",
       "      <td>...</td>\n",
       "      <td>...</td>\n",
       "      <td>...</td>\n",
       "      <td>...</td>\n",
       "      <td>...</td>\n",
       "      <td>...</td>\n",
       "      <td>...</td>\n",
       "    </tr>\n",
       "    <tr>\n",
       "      <th>4266</th>\n",
       "      <td>0.797</td>\n",
       "      <td>0.755</td>\n",
       "      <td>-5.393</td>\n",
       "      <td>0.0293</td>\n",
       "      <td>0.3310</td>\n",
       "      <td>0.000002</td>\n",
       "      <td>0.1240</td>\n",
       "      <td>0.411</td>\n",
       "      <td>129.955</td>\n",
       "      <td>2</td>\n",
       "      <td>1</td>\n",
       "      <td>135878</td>\n",
       "      <td>4</td>\n",
       "      <td>71</td>\n",
       "      <td>2020-11-23</td>\n",
       "      <td>25</td>\n",
       "    </tr>\n",
       "    <tr>\n",
       "      <th>4267</th>\n",
       "      <td>0.796</td>\n",
       "      <td>0.477</td>\n",
       "      <td>-7.161</td>\n",
       "      <td>0.1080</td>\n",
       "      <td>0.3140</td>\n",
       "      <td>0.000000</td>\n",
       "      <td>0.1200</td>\n",
       "      <td>0.685</td>\n",
       "      <td>119.928</td>\n",
       "      <td>1</td>\n",
       "      <td>1</td>\n",
       "      <td>231933</td>\n",
       "      <td>4</td>\n",
       "      <td>71</td>\n",
       "      <td>2004-03-23</td>\n",
       "      <td>25</td>\n",
       "    </tr>\n",
       "    <tr>\n",
       "      <th>4268</th>\n",
       "      <td>0.301</td>\n",
       "      <td>0.672</td>\n",
       "      <td>-4.497</td>\n",
       "      <td>0.0623</td>\n",
       "      <td>0.2800</td>\n",
       "      <td>0.000031</td>\n",
       "      <td>0.0609</td>\n",
       "      <td>0.384</td>\n",
       "      <td>169.497</td>\n",
       "      <td>2</td>\n",
       "      <td>1</td>\n",
       "      <td>230289</td>\n",
       "      <td>3</td>\n",
       "      <td>70</td>\n",
       "      <td>2017-06-23</td>\n",
       "      <td>25</td>\n",
       "    </tr>\n",
       "    <tr>\n",
       "      <th>4269</th>\n",
       "      <td>0.593</td>\n",
       "      <td>0.834</td>\n",
       "      <td>-3.738</td>\n",
       "      <td>0.0424</td>\n",
       "      <td>0.1150</td>\n",
       "      <td>0.000000</td>\n",
       "      <td>0.1910</td>\n",
       "      <td>0.555</td>\n",
       "      <td>151.944</td>\n",
       "      <td>10</td>\n",
       "      <td>1</td>\n",
       "      <td>196987</td>\n",
       "      <td>4</td>\n",
       "      <td>70</td>\n",
       "      <td>2022-06-07</td>\n",
       "      <td>25</td>\n",
       "    </tr>\n",
       "    <tr>\n",
       "      <th>4270</th>\n",
       "      <td>0.405</td>\n",
       "      <td>0.111</td>\n",
       "      <td>-11.879</td>\n",
       "      <td>0.0369</td>\n",
       "      <td>0.9640</td>\n",
       "      <td>0.000044</td>\n",
       "      <td>0.0872</td>\n",
       "      <td>0.219</td>\n",
       "      <td>116.860</td>\n",
       "      <td>0</td>\n",
       "      <td>1</td>\n",
       "      <td>189475</td>\n",
       "      <td>4</td>\n",
       "      <td>71</td>\n",
       "      <td>2014-04-13</td>\n",
       "      <td>25</td>\n",
       "    </tr>\n",
       "  </tbody>\n",
       "</table>\n",
       "<p>4271 rows × 16 columns</p>\n",
       "</div>"
      ],
      "text/plain": [
       "      danceability  energy  loudness  speechiness  acousticness  \\\n",
       "0            0.358   0.284    -8.285       0.0285        0.8050   \n",
       "1            0.637   0.643    -6.571       0.0519        0.1300   \n",
       "2            0.714   0.472    -7.375       0.0864        0.0130   \n",
       "3            0.780   0.689    -5.668       0.1410        0.0368   \n",
       "4            0.715   0.620    -6.005       0.0484        0.4170   \n",
       "...            ...     ...       ...          ...           ...   \n",
       "4266         0.797   0.755    -5.393       0.0293        0.3310   \n",
       "4267         0.796   0.477    -7.161       0.1080        0.3140   \n",
       "4268         0.301   0.672    -4.497       0.0623        0.2800   \n",
       "4269         0.593   0.834    -3.738       0.0424        0.1150   \n",
       "4270         0.405   0.111   -11.879       0.0369        0.9640   \n",
       "\n",
       "      instrumentalness  liveness  valence    tempo  key  mode  duration_ms  \\\n",
       "0             0.000000    0.1830    0.276   99.796    7     1       180853   \n",
       "1             0.000002    0.1420    0.533   97.008    4     1       200690   \n",
       "2             0.000005    0.2660    0.238  131.121    2     1       156943   \n",
       "3             0.000010    0.0698    0.642  115.042    7     1       225389   \n",
       "4             0.000000    0.0822    0.172   97.950    1     0       221520   \n",
       "...                ...       ...      ...      ...  ...   ...          ...   \n",
       "4266          0.000002    0.1240    0.411  129.955    2     1       135878   \n",
       "4267          0.000000    0.1200    0.685  119.928    1     1       231933   \n",
       "4268          0.000031    0.0609    0.384  169.497    2     1       230289   \n",
       "4269          0.000000    0.1910    0.555  151.944   10     1       196987   \n",
       "4270          0.000044    0.0872    0.219  116.860    0     1       189475   \n",
       "\n",
       "      time_signature  popularity release_date  idx  \n",
       "0                  3          85   2022-12-09   44  \n",
       "1                  4          97   2022-10-21   44  \n",
       "2                  4         100   2022-09-22   44  \n",
       "3                  4          93   2022-07-29   44  \n",
       "4                  4          89   2022-12-02   44  \n",
       "...              ...         ...          ...  ...  \n",
       "4266               4          71   2020-11-23   25  \n",
       "4267               4          71   2004-03-23   25  \n",
       "4268               3          70   2017-06-23   25  \n",
       "4269               4          70   2022-06-07   25  \n",
       "4270               4          71   2014-04-13   25  \n",
       "\n",
       "[4271 rows x 16 columns]"
      ]
     },
     "execution_count": 34,
     "metadata": {},
     "output_type": "execute_result"
    }
   ],
   "source": [
    "df_prep"
   ]
  },
  {
   "cell_type": "code",
   "execution_count": 12,
   "id": "e7fc3004",
   "metadata": {},
   "outputs": [
    {
     "name": "stdout",
     "output_type": "stream",
     "text": [
      "<class 'pandas.core.frame.DataFrame'>\n",
      "RangeIndex: 4271 entries, 0 to 4270\n",
      "Data columns (total 15 columns):\n",
      " #   Column            Non-Null Count  Dtype  \n",
      "---  ------            --------------  -----  \n",
      " 0   danceability      4271 non-null   float64\n",
      " 1   energy            4271 non-null   float64\n",
      " 2   loudness          4271 non-null   float64\n",
      " 3   speechiness       4271 non-null   float64\n",
      " 4   acousticness      4271 non-null   float64\n",
      " 5   instrumentalness  4271 non-null   float64\n",
      " 6   liveness          4271 non-null   float64\n",
      " 7   valence           4271 non-null   float64\n",
      " 8   tempo             4271 non-null   float64\n",
      " 9   key               4271 non-null   int64  \n",
      " 10  mode              4271 non-null   int64  \n",
      " 11  duration_ms       4271 non-null   int64  \n",
      " 12  time_signature    4271 non-null   int64  \n",
      " 13  popularity        4271 non-null   int64  \n",
      " 14  release_date      4271 non-null   object \n",
      "dtypes: float64(9), int64(5), object(1)\n",
      "memory usage: 500.6+ KB\n"
     ]
    }
   ],
   "source": [
    "df_prep.info()"
   ]
  },
  {
   "cell_type": "code",
   "execution_count": 35,
   "id": "780fe14e",
   "metadata": {},
   "outputs": [
    {
     "name": "stdout",
     "output_type": "stream",
     "text": [
      "<class 'pandas.core.frame.DataFrame'>\n",
      "RangeIndex: 4271 entries, 0 to 4270\n",
      "Data columns (total 16 columns):\n",
      " #   Column            Non-Null Count  Dtype         \n",
      "---  ------            --------------  -----         \n",
      " 0   danceability      4271 non-null   float64       \n",
      " 1   energy            4271 non-null   float64       \n",
      " 2   loudness          4271 non-null   float64       \n",
      " 3   speechiness       4271 non-null   float64       \n",
      " 4   acousticness      4271 non-null   float64       \n",
      " 5   instrumentalness  4271 non-null   float64       \n",
      " 6   liveness          4271 non-null   float64       \n",
      " 7   valence           4271 non-null   float64       \n",
      " 8   tempo             4271 non-null   float64       \n",
      " 9   key               4271 non-null   int64         \n",
      " 10  mode              4271 non-null   int64         \n",
      " 11  duration_ms       4271 non-null   int64         \n",
      " 12  time_signature    4271 non-null   int64         \n",
      " 13  popularity        4271 non-null   int64         \n",
      " 14  release_date      4271 non-null   datetime64[ns]\n",
      " 15  idx               4271 non-null   int64         \n",
      "dtypes: datetime64[ns](1), float64(9), int64(6)\n",
      "memory usage: 534.0 KB\n"
     ]
    }
   ],
   "source": [
    "# we need to convert the release date to a date time object.\n",
    "# if the release date is just the year, we'll set it to 01-01-yyyy\n",
    "# if the release date is just the year + the month, we'll set it to 01-mm-yyyy\n",
    "# this is done via the gorgeous pd.to_datetime function.\n",
    "\n",
    "\n",
    "df_prep['release_date']=pd.to_datetime(df_prep['release_date'])\n",
    "\n",
    "df_prep.info()"
   ]
  },
  {
   "cell_type": "code",
   "execution_count": 18,
   "id": "f8330937",
   "metadata": {},
   "outputs": [
    {
     "name": "stderr",
     "output_type": "stream",
     "text": [
      "/var/folders/52/t2tzcl916c76rgmdn7l3hpk80000gn/T/ipykernel_26771/967411772.py:1: FutureWarning: Treating datetime data as categorical rather than numeric in `.describe` is deprecated and will be removed in a future version of pandas. Specify `datetime_is_numeric=True` to silence this warning and adopt the future behavior now.\n",
      "  df_prep['release_date'].describe()\n"
     ]
    },
    {
     "data": {
      "text/plain": [
       "count                    4271\n",
       "unique                   1226\n",
       "top       2022-12-09 00:00:00\n",
       "freq                      152\n",
       "first     1942-01-01 00:00:00\n",
       "last      2022-12-09 00:00:00\n",
       "Name: release_date, dtype: object"
      ]
     },
     "execution_count": 18,
     "metadata": {},
     "output_type": "execute_result"
    }
   ],
   "source": [
    "df_prep['release_date'].describe()"
   ]
  },
  {
   "cell_type": "code",
   "execution_count": 36,
   "id": "a2b5eaa5",
   "metadata": {},
   "outputs": [
    {
     "name": "stdout",
     "output_type": "stream",
     "text": [
      "<class 'pandas.core.frame.DataFrame'>\n",
      "RangeIndex: 4271 entries, 0 to 4270\n",
      "Data columns (total 18 columns):\n",
      " #   Column            Non-Null Count  Dtype         \n",
      "---  ------            --------------  -----         \n",
      " 0   danceability      4271 non-null   float64       \n",
      " 1   energy            4271 non-null   float64       \n",
      " 2   loudness          4271 non-null   float64       \n",
      " 3   speechiness       4271 non-null   float64       \n",
      " 4   acousticness      4271 non-null   float64       \n",
      " 5   instrumentalness  4271 non-null   float64       \n",
      " 6   liveness          4271 non-null   float64       \n",
      " 7   valence           4271 non-null   float64       \n",
      " 8   tempo             4271 non-null   float64       \n",
      " 9   key               4271 non-null   int64         \n",
      " 10  mode              4271 non-null   int64         \n",
      " 11  duration_ms       4271 non-null   int64         \n",
      " 12  time_signature    4271 non-null   int64         \n",
      " 13  popularity        4271 non-null   int64         \n",
      " 14  release_date      4271 non-null   datetime64[ns]\n",
      " 15  idx               4271 non-null   int64         \n",
      " 16  now               4271 non-null   datetime64[ns]\n",
      " 17  counting_days     4271 non-null   int64         \n",
      "dtypes: datetime64[ns](2), float64(9), int64(7)\n",
      "memory usage: 600.7 KB\n"
     ]
    },
    {
     "name": "stderr",
     "output_type": "stream",
     "text": [
      "/var/folders/52/t2tzcl916c76rgmdn7l3hpk80000gn/T/ipykernel_26771/2319955295.py:3: FutureWarning: The pandas.datetime class is deprecated and will be removed from pandas in a future version. Import from datetime module instead.\n",
      "  df_prep['now']= pd.to_datetime(pd.datetime.now().date())\n"
     ]
    }
   ],
   "source": [
    "# after this, we'll convert it to a number, which is the number of days ago (since today) it was released.\n",
    "# we'll finally have a df of only int and float, which is far more easy to work with instead of dates.\n",
    "df_prep['now']= pd.to_datetime(pd.datetime.now().date())\n",
    "\n",
    "\n",
    "df_prep['counting_days'] = (df_prep['now'] - df_prep['release_date']).dt.days\n",
    "df_prep['counting_days']\n",
    "df_prep.info()"
   ]
  },
  {
   "cell_type": "code",
   "execution_count": 37,
   "id": "d4b8c8d8",
   "metadata": {},
   "outputs": [],
   "source": [
    "df_prep = df_prep.drop(columns=['release_date', 'now'])\n"
   ]
  },
  {
   "cell_type": "code",
   "execution_count": 38,
   "id": "4e78f319",
   "metadata": {},
   "outputs": [
    {
     "name": "stdout",
     "output_type": "stream",
     "text": [
      "<class 'pandas.core.frame.DataFrame'>\n",
      "RangeIndex: 4271 entries, 0 to 4270\n",
      "Data columns (total 16 columns):\n",
      " #   Column            Non-Null Count  Dtype  \n",
      "---  ------            --------------  -----  \n",
      " 0   danceability      4271 non-null   float64\n",
      " 1   energy            4271 non-null   float64\n",
      " 2   loudness          4271 non-null   float64\n",
      " 3   speechiness       4271 non-null   float64\n",
      " 4   acousticness      4271 non-null   float64\n",
      " 5   instrumentalness  4271 non-null   float64\n",
      " 6   liveness          4271 non-null   float64\n",
      " 7   valence           4271 non-null   float64\n",
      " 8   tempo             4271 non-null   float64\n",
      " 9   key               4271 non-null   int64  \n",
      " 10  mode              4271 non-null   int64  \n",
      " 11  duration_ms       4271 non-null   int64  \n",
      " 12  time_signature    4271 non-null   int64  \n",
      " 13  popularity        4271 non-null   int64  \n",
      " 14  idx               4271 non-null   int64  \n",
      " 15  counting_days     4271 non-null   int64  \n",
      "dtypes: float64(9), int64(7)\n",
      "memory usage: 534.0 KB\n"
     ]
    }
   ],
   "source": [
    "df_prep.info()"
   ]
  },
  {
   "cell_type": "code",
   "execution_count": 32,
   "id": "d9c11f19",
   "metadata": {},
   "outputs": [],
   "source": []
  },
  {
   "cell_type": "code",
   "execution_count": null,
   "id": "82397b6a",
   "metadata": {},
   "outputs": [],
   "source": [
    "# we have now to define what metric to use to compare the models we're using\n",
    "# a good point of start for this is the following:\n",
    "# https://towardsdatascience.com/comprehensive-guide-on-multiclass-classification-metrics-af94cfb83fbd\n",
    "\n",
    "# our problem has a very fragmented classification (50 classes). \n",
    "# let's see how it develops.\n",
    "\n",
    "\n",
    "\n",
    "# we'll use logloss (the lower, the better - it measures the error)\n",
    "\n",
    "# and cohen_kappa_score (the higher, the better). For multiclass, a cohen_kappa of 0.8 is considered excellent\n",
    "# there is a cohen_kappa score even for tensorflow.[which ranges -1 to 1, with -1 hardly disagreeing and 1 agreeing]\n",
    "# 0 in this case is considered 'assigned' by chance.\n",
    "\n",
    "# both of them work with the probability of a class. I.e. the test is done and the results are the probability \n",
    "# of the sample of being part of the class.\n",
    "\n",
    "# idx contains our target."
   ]
  },
  {
   "cell_type": "code",
   "execution_count": 41,
   "id": "91b0dd4b",
   "metadata": {},
   "outputs": [],
   "source": [
    "from sklearn.model_selection import train_test_split\n",
    "from sklearn.utils import shuffle\n",
    "\n",
    "df_prep = shuffle(df_prep, random_state=1)\n",
    "\n",
    "df_train_full, df_test = train_test_split(df_prep, test_size=0.2, random_state=1)\n",
    "df_train, df_val = train_test_split(df_train_full, test_size=0.25, random_state=1)\n",
    "\n",
    "\n",
    "y_test = df_test['idx']\n",
    "y_train = df_train['idx']\n",
    "y_val = df_val['idx']\n"
   ]
  },
  {
   "cell_type": "code",
   "execution_count": null,
   "id": "3544f22b",
   "metadata": {},
   "outputs": [],
   "source": [
    "# for multiclass classification there are various \"native\" algorithms. \n",
    "# Native meaning that these were thought for this kind of problem\n",
    "# we are going to test \n",
    "# Logistic Regression (finding the best solver/iter combination)\n",
    "# Decision Tree \n",
    "# Random Forest\n",
    "# K Neighbours\n",
    "\n",
    "# we then will try with XGBoost - which should give good results as we are dealing with tabular data\n",
    "# finally a test with a Neural Network [Deep - Tensorflow / Keras]"
   ]
  },
  {
   "cell_type": "code",
   "execution_count": 64,
   "id": "1074f0c7",
   "metadata": {},
   "outputs": [
    {
     "data": {
      "application/vnd.jupyter.widget-view+json": {
       "model_id": "1eb9d5a6d89c4db4af85acc30095fcc9",
       "version_major": 2,
       "version_minor": 0
      },
      "text/plain": [
       "  0%|          | 0/4 [00:00<?, ?it/s]"
      ]
     },
     "metadata": {},
     "output_type": "display_data"
    },
    {
     "data": {
      "application/vnd.jupyter.widget-view+json": {
       "model_id": "ae799d6faa5e475e907c5659c7bb4514",
       "version_major": 2,
       "version_minor": 0
      },
      "text/plain": [
       "  0%|          | 0/5 [00:00<?, ?it/s]"
      ]
     },
     "metadata": {},
     "output_type": "display_data"
    },
    {
     "name": "stderr",
     "output_type": "stream",
     "text": [
      "/Users/giordano/opt/anaconda3/lib/python3.9/site-packages/sklearn/utils/optimize.py:210: ConvergenceWarning: newton-cg failed to converge. Increase the number of iterations.\n",
      "  warnings.warn(\n"
     ]
    },
    {
     "name": "stdout",
     "output_type": "stream",
     "text": [
      "solver=newton-cg C=0.01 aucvalue: 0.954 accuracy: 0.525 \n"
     ]
    },
    {
     "name": "stderr",
     "output_type": "stream",
     "text": [
      "/Users/giordano/opt/anaconda3/lib/python3.9/site-packages/sklearn/utils/optimize.py:210: ConvergenceWarning: newton-cg failed to converge. Increase the number of iterations.\n",
      "  warnings.warn(\n"
     ]
    },
    {
     "name": "stdout",
     "output_type": "stream",
     "text": [
      "solver=newton-cg C=0.1 aucvalue: 0.956 accuracy: 0.529 \n"
     ]
    },
    {
     "name": "stderr",
     "output_type": "stream",
     "text": [
      "/Users/giordano/opt/anaconda3/lib/python3.9/site-packages/sklearn/utils/optimize.py:210: ConvergenceWarning: newton-cg failed to converge. Increase the number of iterations.\n",
      "  warnings.warn(\n"
     ]
    },
    {
     "name": "stdout",
     "output_type": "stream",
     "text": [
      "solver=newton-cg C=1 aucvalue: 0.959 accuracy: 0.545 \n"
     ]
    },
    {
     "name": "stderr",
     "output_type": "stream",
     "text": [
      "/Users/giordano/opt/anaconda3/lib/python3.9/site-packages/sklearn/utils/optimize.py:210: ConvergenceWarning: newton-cg failed to converge. Increase the number of iterations.\n",
      "  warnings.warn(\n"
     ]
    },
    {
     "name": "stdout",
     "output_type": "stream",
     "text": [
      "solver=newton-cg C=10 aucvalue: 0.954 accuracy: 0.523 \n",
      "solver=newton-cg C=100 aucvalue: 0.954 accuracy: 0.522 \n"
     ]
    },
    {
     "name": "stderr",
     "output_type": "stream",
     "text": [
      "/Users/giordano/opt/anaconda3/lib/python3.9/site-packages/sklearn/utils/optimize.py:210: ConvergenceWarning: newton-cg failed to converge. Increase the number of iterations.\n",
      "  warnings.warn(\n"
     ]
    },
    {
     "data": {
      "application/vnd.jupyter.widget-view+json": {
       "model_id": "fda48ea66a7b43aba072f6b382975519",
       "version_major": 2,
       "version_minor": 0
      },
      "text/plain": [
       "  0%|          | 0/5 [00:00<?, ?it/s]"
      ]
     },
     "metadata": {},
     "output_type": "display_data"
    },
    {
     "name": "stderr",
     "output_type": "stream",
     "text": [
      "/Users/giordano/opt/anaconda3/lib/python3.9/site-packages/sklearn/linear_model/_logistic.py:814: ConvergenceWarning: lbfgs failed to converge (status=1):\n",
      "STOP: TOTAL NO. of ITERATIONS REACHED LIMIT.\n",
      "\n",
      "Increase the number of iterations (max_iter) or scale the data as shown in:\n",
      "    https://scikit-learn.org/stable/modules/preprocessing.html\n",
      "Please also refer to the documentation for alternative solver options:\n",
      "    https://scikit-learn.org/stable/modules/linear_model.html#logistic-regression\n",
      "  n_iter_i = _check_optimize_result(\n"
     ]
    },
    {
     "name": "stdout",
     "output_type": "stream",
     "text": [
      "solver=lbfgs C=0.01 aucvalue: 0.773 accuracy: 0.099 \n"
     ]
    },
    {
     "name": "stderr",
     "output_type": "stream",
     "text": [
      "/Users/giordano/opt/anaconda3/lib/python3.9/site-packages/sklearn/linear_model/_logistic.py:814: ConvergenceWarning: lbfgs failed to converge (status=1):\n",
      "STOP: TOTAL NO. of ITERATIONS REACHED LIMIT.\n",
      "\n",
      "Increase the number of iterations (max_iter) or scale the data as shown in:\n",
      "    https://scikit-learn.org/stable/modules/preprocessing.html\n",
      "Please also refer to the documentation for alternative solver options:\n",
      "    https://scikit-learn.org/stable/modules/linear_model.html#logistic-regression\n",
      "  n_iter_i = _check_optimize_result(\n"
     ]
    },
    {
     "name": "stdout",
     "output_type": "stream",
     "text": [
      "solver=lbfgs C=0.1 aucvalue: 0.781 accuracy: 0.095 \n"
     ]
    },
    {
     "name": "stderr",
     "output_type": "stream",
     "text": [
      "/Users/giordano/opt/anaconda3/lib/python3.9/site-packages/sklearn/linear_model/_logistic.py:814: ConvergenceWarning: lbfgs failed to converge (status=1):\n",
      "STOP: TOTAL NO. of ITERATIONS REACHED LIMIT.\n",
      "\n",
      "Increase the number of iterations (max_iter) or scale the data as shown in:\n",
      "    https://scikit-learn.org/stable/modules/preprocessing.html\n",
      "Please also refer to the documentation for alternative solver options:\n",
      "    https://scikit-learn.org/stable/modules/linear_model.html#logistic-regression\n",
      "  n_iter_i = _check_optimize_result(\n"
     ]
    },
    {
     "name": "stdout",
     "output_type": "stream",
     "text": [
      "solver=lbfgs C=1 aucvalue: 0.777 accuracy: 0.097 \n"
     ]
    },
    {
     "name": "stderr",
     "output_type": "stream",
     "text": [
      "/Users/giordano/opt/anaconda3/lib/python3.9/site-packages/sklearn/linear_model/_logistic.py:814: ConvergenceWarning: lbfgs failed to converge (status=1):\n",
      "STOP: TOTAL NO. of ITERATIONS REACHED LIMIT.\n",
      "\n",
      "Increase the number of iterations (max_iter) or scale the data as shown in:\n",
      "    https://scikit-learn.org/stable/modules/preprocessing.html\n",
      "Please also refer to the documentation for alternative solver options:\n",
      "    https://scikit-learn.org/stable/modules/linear_model.html#logistic-regression\n",
      "  n_iter_i = _check_optimize_result(\n"
     ]
    },
    {
     "name": "stdout",
     "output_type": "stream",
     "text": [
      "solver=lbfgs C=10 aucvalue: 0.778 accuracy: 0.102 \n",
      "solver=lbfgs C=100 aucvalue: 0.774 accuracy: 0.099 \n"
     ]
    },
    {
     "name": "stderr",
     "output_type": "stream",
     "text": [
      "/Users/giordano/opt/anaconda3/lib/python3.9/site-packages/sklearn/linear_model/_logistic.py:814: ConvergenceWarning: lbfgs failed to converge (status=1):\n",
      "STOP: TOTAL NO. of ITERATIONS REACHED LIMIT.\n",
      "\n",
      "Increase the number of iterations (max_iter) or scale the data as shown in:\n",
      "    https://scikit-learn.org/stable/modules/preprocessing.html\n",
      "Please also refer to the documentation for alternative solver options:\n",
      "    https://scikit-learn.org/stable/modules/linear_model.html#logistic-regression\n",
      "  n_iter_i = _check_optimize_result(\n"
     ]
    },
    {
     "data": {
      "application/vnd.jupyter.widget-view+json": {
       "model_id": "a5812a52d8da4af8b4cc69fa9a7ac13e",
       "version_major": 2,
       "version_minor": 0
      },
      "text/plain": [
       "  0%|          | 0/5 [00:00<?, ?it/s]"
      ]
     },
     "metadata": {},
     "output_type": "display_data"
    },
    {
     "name": "stderr",
     "output_type": "stream",
     "text": [
      "/Users/giordano/opt/anaconda3/lib/python3.9/site-packages/sklearn/linear_model/_sag.py:352: ConvergenceWarning: The max_iter was reached which means the coef_ did not converge\n",
      "  warnings.warn(\n"
     ]
    },
    {
     "name": "stdout",
     "output_type": "stream",
     "text": [
      "solver=sag C=0.01 aucvalue: 0.736 accuracy: 0.069 \n"
     ]
    },
    {
     "name": "stderr",
     "output_type": "stream",
     "text": [
      "/Users/giordano/opt/anaconda3/lib/python3.9/site-packages/sklearn/linear_model/_sag.py:352: ConvergenceWarning: The max_iter was reached which means the coef_ did not converge\n",
      "  warnings.warn(\n"
     ]
    },
    {
     "name": "stdout",
     "output_type": "stream",
     "text": [
      "solver=sag C=0.1 aucvalue: 0.736 accuracy: 0.069 \n"
     ]
    },
    {
     "name": "stderr",
     "output_type": "stream",
     "text": [
      "/Users/giordano/opt/anaconda3/lib/python3.9/site-packages/sklearn/linear_model/_sag.py:352: ConvergenceWarning: The max_iter was reached which means the coef_ did not converge\n",
      "  warnings.warn(\n"
     ]
    },
    {
     "name": "stdout",
     "output_type": "stream",
     "text": [
      "solver=sag C=1 aucvalue: 0.736 accuracy: 0.069 \n"
     ]
    },
    {
     "name": "stderr",
     "output_type": "stream",
     "text": [
      "/Users/giordano/opt/anaconda3/lib/python3.9/site-packages/sklearn/linear_model/_sag.py:352: ConvergenceWarning: The max_iter was reached which means the coef_ did not converge\n",
      "  warnings.warn(\n"
     ]
    },
    {
     "name": "stdout",
     "output_type": "stream",
     "text": [
      "solver=sag C=10 aucvalue: 0.736 accuracy: 0.069 \n",
      "solver=sag C=100 aucvalue: 0.736 accuracy: 0.069 \n"
     ]
    },
    {
     "name": "stderr",
     "output_type": "stream",
     "text": [
      "/Users/giordano/opt/anaconda3/lib/python3.9/site-packages/sklearn/linear_model/_sag.py:352: ConvergenceWarning: The max_iter was reached which means the coef_ did not converge\n",
      "  warnings.warn(\n"
     ]
    },
    {
     "data": {
      "application/vnd.jupyter.widget-view+json": {
       "model_id": "c2f6c65c9ebd40009bd315820b48ec27",
       "version_major": 2,
       "version_minor": 0
      },
      "text/plain": [
       "  0%|          | 0/5 [00:00<?, ?it/s]"
      ]
     },
     "metadata": {},
     "output_type": "display_data"
    },
    {
     "name": "stderr",
     "output_type": "stream",
     "text": [
      "/Users/giordano/opt/anaconda3/lib/python3.9/site-packages/sklearn/linear_model/_sag.py:352: ConvergenceWarning: The max_iter was reached which means the coef_ did not converge\n",
      "  warnings.warn(\n"
     ]
    },
    {
     "name": "stdout",
     "output_type": "stream",
     "text": [
      "solver=saga C=0.01 aucvalue: 0.731 accuracy: 0.064 \n"
     ]
    },
    {
     "name": "stderr",
     "output_type": "stream",
     "text": [
      "/Users/giordano/opt/anaconda3/lib/python3.9/site-packages/sklearn/linear_model/_sag.py:352: ConvergenceWarning: The max_iter was reached which means the coef_ did not converge\n",
      "  warnings.warn(\n"
     ]
    },
    {
     "name": "stdout",
     "output_type": "stream",
     "text": [
      "solver=saga C=0.1 aucvalue: 0.731 accuracy: 0.064 \n"
     ]
    },
    {
     "name": "stderr",
     "output_type": "stream",
     "text": [
      "/Users/giordano/opt/anaconda3/lib/python3.9/site-packages/sklearn/linear_model/_sag.py:352: ConvergenceWarning: The max_iter was reached which means the coef_ did not converge\n",
      "  warnings.warn(\n"
     ]
    },
    {
     "name": "stdout",
     "output_type": "stream",
     "text": [
      "solver=saga C=1 aucvalue: 0.731 accuracy: 0.064 \n"
     ]
    },
    {
     "name": "stderr",
     "output_type": "stream",
     "text": [
      "/Users/giordano/opt/anaconda3/lib/python3.9/site-packages/sklearn/linear_model/_sag.py:352: ConvergenceWarning: The max_iter was reached which means the coef_ did not converge\n",
      "  warnings.warn(\n"
     ]
    },
    {
     "name": "stdout",
     "output_type": "stream",
     "text": [
      "solver=saga C=10 aucvalue: 0.731 accuracy: 0.064 \n",
      "solver=saga C=100 aucvalue: 0.731 accuracy: 0.064 \n"
     ]
    },
    {
     "name": "stderr",
     "output_type": "stream",
     "text": [
      "/Users/giordano/opt/anaconda3/lib/python3.9/site-packages/sklearn/linear_model/_sag.py:352: ConvergenceWarning: The max_iter was reached which means the coef_ did not converge\n",
      "  warnings.warn(\n"
     ]
    }
   ],
   "source": [
    "from sklearn.linear_model import LogisticRegression\n",
    "from sklearn.tree import DecisionTreeClassifier\n",
    "from sklearn.ensemble import RandomForestClassifier\n",
    "import xgboost as xgb\n",
    "\n",
    "from sklearn.metrics import accuracy_score, roc_auc_score, confusion_matrix\n",
    "from tqdm.auto import tqdm\n",
    "\n",
    "import warnings   \n",
    "import numpy as np\n",
    "\n",
    "auc_scores = []\n",
    "accuracy_scores = []\n",
    "\n",
    "for solver_var in tqdm(['newton-cg','lbfgs','sag','saga']):\n",
    "    for c_var in tqdm([0.01, 0.1, 1, 10, 100]):\n",
    "\n",
    "        logreg = LogisticRegression(solver=solver_var, C=c_var, multi_class = \"multinomial\", max_iter=500 ,random_state=1, n_jobs = -1)\n",
    "        logreg.fit(df_train, y_train)\n",
    "        \n",
    "        y_predict_train_logreg = logreg.predict(df_train)\n",
    "        y_predict_test_logreg = logreg.predict(df_test)\n",
    "        \n",
    "        train_accuracy_score_logreg = accuracy_score(y_train, y_predict_train_logreg)\n",
    "        test_accuracy_score_logreg = accuracy_score(y_test, y_predict_test_logreg)\n",
    "        \n",
    "        # we are using ovr for the multiclass roc auc score calculation.\n",
    "        # ovr Computes the AUC of each class against the rest.\n",
    "        # we do not have class imbalance (all the playlist have 50 to 100 tracks as samples)\n",
    "        # with class imbalance we should use ovo and define the kind of average to use (micro/macro/weighted)\n",
    "        train_rocauc_score_logreg = roc_auc_score(y_train, logreg.predict_proba(df_train), multi_class='ovr')\n",
    "        test_rocauc_score_logreg = roc_auc_score(y_test, logreg.predict_proba(df_test), multi_class='ovr')\n",
    "\n",
    "        auc_scores.append(test_rocauc_score_logreg)\n",
    "        accuracy_scores.append(test_accuracy_score_logreg)\n",
    "\n",
    "        print('solver=%s C=%s aucvalue: %.3f accuracy: %.3f ' % (solver_var, c_var, test_rocauc_score_logreg, test_accuracy_score_logreg))\n",
    "\n",
    "#print(train_accuracy_score_logreg)\n",
    "#print(test_accuracy_score_logreg)\n",
    "\n",
    "#print(train_rocauc_score_logreg)\n",
    "#print(test_rocauc_score_logreg)\n",
    "\n",
    "# of all the training test,\n",
    "# the only good performer is the newton solver.\n",
    "# at its best with C = 1 \n",
    "# the other solvers have lower accuracy or are not available for multiclass classification\n",
    "\n",
    "# auc = 0.959\n",
    "# accuracy = 0.545\n"
   ]
  },
  {
   "cell_type": "code",
   "execution_count": null,
   "id": "ffc0f0ac",
   "metadata": {},
   "outputs": [],
   "source": []
  },
  {
   "cell_type": "code",
   "execution_count": 65,
   "id": "2ee7ae60",
   "metadata": {},
   "outputs": [],
   "source": [
    "# this function draws a better confusion matrix rather than the one included in sklearn\n",
    "# that's because we need to evaluate over 50 classes.\n",
    "# [which is a quite big number of classes]\n",
    "\n",
    "import matplotlib.pyplot as plt\n",
    "import seaborn as sns\n",
    "sns.set()\n",
    "\n",
    "def draw_confusion_matrix(cm):\n",
    "    plt.figure(figsize=(12,8))\n",
    "    sns.heatmap(cm,annot=True,fmt=\"d\", center=0, cmap='autumn') \n",
    "    plt.title(\"Confusion Matrix\")\n",
    "    plt.ylabel('True label')\n",
    "    plt.xlabel('Predicted label')\n",
    "    plt.show()\n"
   ]
  },
  {
   "cell_type": "code",
   "execution_count": 66,
   "id": "3c03dd48",
   "metadata": {},
   "outputs": [
    {
     "name": "stderr",
     "output_type": "stream",
     "text": [
      "/Users/giordano/opt/anaconda3/lib/python3.9/site-packages/sklearn/utils/optimize.py:210: ConvergenceWarning: newton-cg failed to converge. Increase the number of iterations.\n",
      "  warnings.warn(\n"
     ]
    },
    {
     "data": {
      "image/png": "[encoded data removed]",
      "text/plain": [
       "<Figure size 864x576 with 2 Axes>"
      ]
     },
     "metadata": {},
     "output_type": "display_data"
    }
   ],
   "source": [
    "logreg = LogisticRegression(solver='newton-cg', C=1, multi_class = \"multinomial\", max_iter=1000 ,random_state=1, n_jobs = -1)\n",
    "logreg.fit(df_train, y_train)\n",
    "        \n",
    "y_predict_train_logreg = logreg.predict(df_train)\n",
    "y_predict_test_logreg = logreg.predict(df_test)\n",
    "\n",
    "\n",
    "cm_logreg = confusion_matrix(y_test,y_predict_test_logreg)\n",
    "draw_confusion_matrix(cm_logreg)\n",
    "\n"
   ]
  },
  {
   "cell_type": "code",
   "execution_count": null,
   "id": "29a77fd8",
   "metadata": {},
   "outputs": [],
   "source": [
    "# as we can see, the diagonal of the confusion matrix is quite outlined.\n",
    "# so the predicted and the actual values tend to converge.\n",
    "# some sparse value still present."
   ]
  },
  {
   "cell_type": "code",
   "execution_count": 77,
   "id": "4e4783b5",
   "metadata": {},
   "outputs": [
    {
     "data": {
      "application/vnd.jupyter.widget-view+json": {
       "model_id": "a857b9d4edd9472dae77ea7d1403a3e8",
       "version_major": 2,
       "version_minor": 0
      },
      "text/plain": [
       "  0%|          | 0/2 [00:00<?, ?it/s]"
      ]
     },
     "metadata": {},
     "output_type": "display_data"
    },
    {
     "data": {
      "application/vnd.jupyter.widget-view+json": {
       "model_id": "fa7e3a4de8af45b3a6525a2fdf75941d",
       "version_major": 2,
       "version_minor": 0
      },
      "text/plain": [
       "  0%|          | 0/4 [00:00<?, ?it/s]"
      ]
     },
     "metadata": {},
     "output_type": "display_data"
    },
    {
     "data": {
      "application/vnd.jupyter.widget-view+json": {
       "model_id": "d764aad3f6ba4a03970cd7f0f7699a71",
       "version_major": 2,
       "version_minor": 0
      },
      "text/plain": [
       "  0%|          | 0/4 [00:00<?, ?it/s]"
      ]
     },
     "metadata": {},
     "output_type": "display_data"
    },
    {
     "name": "stdout",
     "output_type": "stream",
     "text": [
      "criterion=gini max_depth=3 min_sampleleaf=1 aucvalue: 0.793 accuracy: 0.098 \n",
      "criterion=gini max_depth=3 min_sampleleaf=5 aucvalue: 0.793 accuracy: 0.098 \n",
      "criterion=gini max_depth=3 min_sampleleaf=10 aucvalue: 0.793 accuracy: 0.098 \n",
      "criterion=gini max_depth=3 min_sampleleaf=20 aucvalue: 0.793 accuracy: 0.098 \n"
     ]
    },
    {
     "data": {
      "application/vnd.jupyter.widget-view+json": {
       "model_id": "cdf39b62d0274fc0817c589c21f15ec8",
       "version_major": 2,
       "version_minor": 0
      },
      "text/plain": [
       "  0%|          | 0/4 [00:00<?, ?it/s]"
      ]
     },
     "metadata": {},
     "output_type": "display_data"
    },
    {
     "name": "stdout",
     "output_type": "stream",
     "text": [
      "criterion=gini max_depth=30 min_sampleleaf=1 aucvalue: 0.997 accuracy: 0.993 \n",
      "criterion=gini max_depth=30 min_sampleleaf=5 aucvalue: 0.998 accuracy: 0.995 \n",
      "criterion=gini max_depth=30 min_sampleleaf=10 aucvalue: 0.998 accuracy: 0.995 \n",
      "criterion=gini max_depth=30 min_sampleleaf=20 aucvalue: 0.998 accuracy: 0.995 \n"
     ]
    },
    {
     "data": {
      "application/vnd.jupyter.widget-view+json": {
       "model_id": "3fa8e3ff39e04502934286a9e701ce19",
       "version_major": 2,
       "version_minor": 0
      },
      "text/plain": [
       "  0%|          | 0/4 [00:00<?, ?it/s]"
      ]
     },
     "metadata": {},
     "output_type": "display_data"
    },
    {
     "name": "stdout",
     "output_type": "stream",
     "text": [
      "criterion=gini max_depth=300 min_sampleleaf=1 aucvalue: 0.997 accuracy: 0.993 \n",
      "criterion=gini max_depth=300 min_sampleleaf=5 aucvalue: 0.998 accuracy: 0.995 \n",
      "criterion=gini max_depth=300 min_sampleleaf=10 aucvalue: 0.998 accuracy: 0.995 \n",
      "criterion=gini max_depth=300 min_sampleleaf=20 aucvalue: 0.998 accuracy: 0.995 \n"
     ]
    },
    {
     "data": {
      "application/vnd.jupyter.widget-view+json": {
       "model_id": "bbd78df17c824fd781f986ac527b0b1b",
       "version_major": 2,
       "version_minor": 0
      },
      "text/plain": [
       "  0%|          | 0/4 [00:00<?, ?it/s]"
      ]
     },
     "metadata": {},
     "output_type": "display_data"
    },
    {
     "name": "stdout",
     "output_type": "stream",
     "text": [
      "criterion=gini max_depth=3000 min_sampleleaf=1 aucvalue: 0.997 accuracy: 0.993 \n",
      "criterion=gini max_depth=3000 min_sampleleaf=5 aucvalue: 0.998 accuracy: 0.995 \n",
      "criterion=gini max_depth=3000 min_sampleleaf=10 aucvalue: 0.998 accuracy: 0.995 \n",
      "criterion=gini max_depth=3000 min_sampleleaf=20 aucvalue: 0.998 accuracy: 0.995 \n"
     ]
    },
    {
     "data": {
      "application/vnd.jupyter.widget-view+json": {
       "model_id": "eedea64589fb4a93aad45ea3a06487ac",
       "version_major": 2,
       "version_minor": 0
      },
      "text/plain": [
       "  0%|          | 0/4 [00:00<?, ?it/s]"
      ]
     },
     "metadata": {},
     "output_type": "display_data"
    },
    {
     "data": {
      "application/vnd.jupyter.widget-view+json": {
       "model_id": "9710c84900094692a97a63d8d5ca2a8d",
       "version_major": 2,
       "version_minor": 0
      },
      "text/plain": [
       "  0%|          | 0/4 [00:00<?, ?it/s]"
      ]
     },
     "metadata": {},
     "output_type": "display_data"
    },
    {
     "name": "stdout",
     "output_type": "stream",
     "text": [
      "criterion=entropy max_depth=3 min_sampleleaf=1 aucvalue: 0.946 accuracy: 0.156 \n",
      "criterion=entropy max_depth=3 min_sampleleaf=5 aucvalue: 0.946 accuracy: 0.156 \n",
      "criterion=entropy max_depth=3 min_sampleleaf=10 aucvalue: 0.946 accuracy: 0.156 \n",
      "criterion=entropy max_depth=3 min_sampleleaf=20 aucvalue: 0.946 accuracy: 0.156 \n"
     ]
    },
    {
     "data": {
      "application/vnd.jupyter.widget-view+json": {
       "model_id": "e6197ec6da6c4471bb4162df91952369",
       "version_major": 2,
       "version_minor": 0
      },
      "text/plain": [
       "  0%|          | 0/4 [00:00<?, ?it/s]"
      ]
     },
     "metadata": {},
     "output_type": "display_data"
    },
    {
     "name": "stdout",
     "output_type": "stream",
     "text": [
      "criterion=entropy max_depth=30 min_sampleleaf=1 aucvalue: 0.999 accuracy: 0.998 \n",
      "criterion=entropy max_depth=30 min_sampleleaf=5 aucvalue: 0.999 accuracy: 0.996 \n",
      "criterion=entropy max_depth=30 min_sampleleaf=10 aucvalue: 0.999 accuracy: 0.996 \n",
      "criterion=entropy max_depth=30 min_sampleleaf=20 aucvalue: 0.999 accuracy: 0.996 \n"
     ]
    },
    {
     "data": {
      "application/vnd.jupyter.widget-view+json": {
       "model_id": "5a807d1c3e614a9a9b2bf7dbde44aebf",
       "version_major": 2,
       "version_minor": 0
      },
      "text/plain": [
       "  0%|          | 0/4 [00:00<?, ?it/s]"
      ]
     },
     "metadata": {},
     "output_type": "display_data"
    },
    {
     "name": "stdout",
     "output_type": "stream",
     "text": [
      "criterion=entropy max_depth=300 min_sampleleaf=1 aucvalue: 0.999 accuracy: 0.998 \n",
      "criterion=entropy max_depth=300 min_sampleleaf=5 aucvalue: 0.999 accuracy: 0.996 \n",
      "criterion=entropy max_depth=300 min_sampleleaf=10 aucvalue: 0.999 accuracy: 0.996 \n",
      "criterion=entropy max_depth=300 min_sampleleaf=20 aucvalue: 0.999 accuracy: 0.996 \n"
     ]
    },
    {
     "data": {
      "application/vnd.jupyter.widget-view+json": {
       "model_id": "e8f07d583044410e92a59a3069412ae3",
       "version_major": 2,
       "version_minor": 0
      },
      "text/plain": [
       "  0%|          | 0/4 [00:00<?, ?it/s]"
      ]
     },
     "metadata": {},
     "output_type": "display_data"
    },
    {
     "name": "stdout",
     "output_type": "stream",
     "text": [
      "criterion=entropy max_depth=3000 min_sampleleaf=1 aucvalue: 0.999 accuracy: 0.998 \n",
      "criterion=entropy max_depth=3000 min_sampleleaf=5 aucvalue: 0.999 accuracy: 0.996 \n",
      "criterion=entropy max_depth=3000 min_sampleleaf=10 aucvalue: 0.999 accuracy: 0.996 \n",
      "criterion=entropy max_depth=3000 min_sampleleaf=20 aucvalue: 0.999 accuracy: 0.996 \n"
     ]
    }
   ],
   "source": [
    "# let's find the best combination when training a decision tree\n",
    "\n",
    "auc_scores = []\n",
    "accuracy_scores = []\n",
    "\n",
    "for criterion_var in tqdm(['gini', 'entropy']):\n",
    "    for max_depth_var in tqdm([3, 30, 300, 3000]):\n",
    "        for min_samples_leaf_var in tqdm([1, 5, 10, 20]):\n",
    "\n",
    "            dtc = DecisionTreeClassifier(criterion = criterion_var, random_state = 1,\n",
    "                                   max_depth=max_depth_var, min_samples_leaf=min_samples_leaf_var)\n",
    "            dtc.fit(df_train, y_train)\n",
    "\n",
    "            y_predict_train_dtc = dtc.predict(df_train)\n",
    "            y_predict_test_dtc = dtc.predict(df_test)\n",
    "\n",
    "            train_accuracy_score_dtc = accuracy_score(y_train, y_predict_train_dtc)\n",
    "            test_accuracy_score_dtc = accuracy_score(y_test, y_predict_test_dtc)\n",
    "\n",
    "            train_rocauc_score_dtc = roc_auc_score(y_train, dtc.predict_proba(df_train), multi_class='ovr')\n",
    "            test_rocauc_score_dtc = roc_auc_score(y_test, dtc.predict_proba(df_test), multi_class='ovr')\n",
    "\n",
    "            auc_scores.append(test_rocauc_score_dtc)\n",
    "            accuracy_scores.append(test_accuracy_score_dtc)\n",
    "\n",
    "            print('criterion=%s max_depth=%s min_sampleleaf=%s aucvalue: %.3f accuracy: %.3f ' % (criterion_var, max_depth_var, min_samples_leaf_var, test_rocauc_score_dtc, test_accuracy_score_dtc))\n"
   ]
  },
  {
   "cell_type": "code",
   "execution_count": 78,
   "id": "c9a2ac5d",
   "metadata": {},
   "outputs": [
    {
     "data": {
      "image/png": "[encoded data removed]",
      "text/plain": [
       "<Figure size 864x576 with 2 Axes>"
      ]
     },
     "metadata": {},
     "output_type": "display_data"
    }
   ],
   "source": [
    "dtc = DecisionTreeClassifier(criterion = 'entropy', random_state = 1,\n",
    "                                   max_depth=3000, min_samples_leaf=1)\n",
    "dtc.fit(df_train, y_train)\n",
    "\n",
    "y_predict_train_dtc = dtc.predict(df_train)\n",
    "y_predict_test_dtc = dtc.predict(df_test)\n",
    "\n",
    "\n",
    "#cm_dtc = confusion_matrix(y_train,y_predict_train_dtc)\n",
    "\n",
    "cm_dtc = confusion_matrix(y_test,y_predict_test_dtc)\n",
    "draw_confusion_matrix(cm_dtc)\n"
   ]
  },
  {
   "cell_type": "code",
   "execution_count": null,
   "id": "f8738ed3",
   "metadata": {},
   "outputs": [],
   "source": [
    "# this seems clearly overfitting.\n",
    "# even if, for the kind f problem, it would probably be the best solution.\n",
    "# anyway, it's not clear how it would behave with unseen data.\n"
   ]
  },
  {
   "cell_type": "code",
   "execution_count": 79,
   "id": "05c86cf7",
   "metadata": {},
   "outputs": [
    {
     "data": {
      "image/png": "[encoded data removed]",
      "text/plain": [
       "<Figure size 864x576 with 2 Axes>"
      ]
     },
     "metadata": {},
     "output_type": "display_data"
    }
   ],
   "source": [
    "\n",
    "y_predict_val_dtc = dtc.predict(df_val)\n",
    "\n",
    "cm_dtc_val = confusion_matrix(y_val,y_predict_val_dtc)\n",
    "draw_confusion_matrix(cm_dtc_val)"
   ]
  },
  {
   "cell_type": "code",
   "execution_count": 83,
   "id": "5719b1ad",
   "metadata": {},
   "outputs": [
    {
     "data": {
      "application/vnd.jupyter.widget-view+json": {
       "model_id": "76d827583fc640ffaf73785c2232ef59",
       "version_major": 2,
       "version_minor": 0
      },
      "text/plain": [
       "  0%|          | 0/2 [00:00<?, ?it/s]"
      ]
     },
     "metadata": {},
     "output_type": "display_data"
    },
    {
     "data": {
      "application/vnd.jupyter.widget-view+json": {
       "model_id": "9a9f61617fa14ea1bb0f0fe5464e8b68",
       "version_major": 2,
       "version_minor": 0
      },
      "text/plain": [
       "  0%|          | 0/5 [00:00<?, ?it/s]"
      ]
     },
     "metadata": {},
     "output_type": "display_data"
    },
    {
     "data": {
      "application/vnd.jupyter.widget-view+json": {
       "model_id": "7d65d8131eb64d588a8249a0c55a5242",
       "version_major": 2,
       "version_minor": 0
      },
      "text/plain": [
       "  0%|          | 0/4 [00:00<?, ?it/s]"
      ]
     },
     "metadata": {},
     "output_type": "display_data"
    },
    {
     "name": "stdout",
     "output_type": "stream",
     "text": [
      "criterion=gini estimators=10 max_depth=1  aucvalue: 0.840 accuracy: 0.189 \n",
      "criterion=gini estimators=10 max_depth=5  aucvalue: 0.963 accuracy: 0.535 \n",
      "criterion=gini estimators=10 max_depth=10  aucvalue: 0.985 accuracy: 0.768 \n",
      "criterion=gini estimators=10 max_depth=30  aucvalue: 0.976 accuracy: 0.770 \n"
     ]
    },
    {
     "data": {
      "application/vnd.jupyter.widget-view+json": {
       "model_id": "c638d2fe65fd467dbeaaaf3925e7285b",
       "version_major": 2,
       "version_minor": 0
      },
      "text/plain": [
       "  0%|          | 0/4 [00:00<?, ?it/s]"
      ]
     },
     "metadata": {},
     "output_type": "display_data"
    },
    {
     "name": "stdout",
     "output_type": "stream",
     "text": [
      "criterion=gini estimators=50 max_depth=1  aucvalue: 0.919 accuracy: 0.258 \n",
      "criterion=gini estimators=50 max_depth=5  aucvalue: 0.977 accuracy: 0.636 \n",
      "criterion=gini estimators=50 max_depth=10  aucvalue: 0.994 accuracy: 0.825 \n",
      "criterion=gini estimators=50 max_depth=30  aucvalue: 0.998 accuracy: 0.884 \n"
     ]
    },
    {
     "data": {
      "application/vnd.jupyter.widget-view+json": {
       "model_id": "8afdd339194747e480ffd6da045e1650",
       "version_major": 2,
       "version_minor": 0
      },
      "text/plain": [
       "  0%|          | 0/4 [00:00<?, ?it/s]"
      ]
     },
     "metadata": {},
     "output_type": "display_data"
    },
    {
     "name": "stdout",
     "output_type": "stream",
     "text": [
      "criterion=gini estimators=100 max_depth=1  aucvalue: 0.924 accuracy: 0.249 \n",
      "criterion=gini estimators=100 max_depth=5  aucvalue: 0.980 accuracy: 0.628 \n",
      "criterion=gini estimators=100 max_depth=10  aucvalue: 0.996 accuracy: 0.843 \n",
      "criterion=gini estimators=100 max_depth=30  aucvalue: 0.998 accuracy: 0.903 \n"
     ]
    },
    {
     "data": {
      "application/vnd.jupyter.widget-view+json": {
       "model_id": "45625168c9424c4a9fac2c2fb1fdc2ee",
       "version_major": 2,
       "version_minor": 0
      },
      "text/plain": [
       "  0%|          | 0/4 [00:00<?, ?it/s]"
      ]
     },
     "metadata": {},
     "output_type": "display_data"
    },
    {
     "name": "stdout",
     "output_type": "stream",
     "text": [
      "criterion=gini estimators=500 max_depth=1  aucvalue: 0.954 accuracy: 0.262 \n",
      "criterion=gini estimators=500 max_depth=5  aucvalue: 0.987 accuracy: 0.671 \n",
      "criterion=gini estimators=500 max_depth=10  aucvalue: 0.996 accuracy: 0.861 \n",
      "criterion=gini estimators=500 max_depth=30  aucvalue: 0.999 accuracy: 0.903 \n"
     ]
    },
    {
     "data": {
      "application/vnd.jupyter.widget-view+json": {
       "model_id": "4a4098121f20407e867dccdf28085a9b",
       "version_major": 2,
       "version_minor": 0
      },
      "text/plain": [
       "  0%|          | 0/4 [00:00<?, ?it/s]"
      ]
     },
     "metadata": {},
     "output_type": "display_data"
    },
    {
     "name": "stdout",
     "output_type": "stream",
     "text": [
      "criterion=gini estimators=1000 max_depth=1  aucvalue: 0.959 accuracy: 0.306 \n",
      "criterion=gini estimators=1000 max_depth=5  aucvalue: 0.987 accuracy: 0.682 \n",
      "criterion=gini estimators=1000 max_depth=10  aucvalue: 0.996 accuracy: 0.863 \n",
      "criterion=gini estimators=1000 max_depth=30  aucvalue: 0.999 accuracy: 0.912 \n"
     ]
    },
    {
     "data": {
      "application/vnd.jupyter.widget-view+json": {
       "model_id": "e13002dfdf6242d6b05a67447e165786",
       "version_major": 2,
       "version_minor": 0
      },
      "text/plain": [
       "  0%|          | 0/5 [00:00<?, ?it/s]"
      ]
     },
     "metadata": {},
     "output_type": "display_data"
    },
    {
     "data": {
      "application/vnd.jupyter.widget-view+json": {
       "model_id": "57314ef31b394f1e8694ca6b1b7a1b81",
       "version_major": 2,
       "version_minor": 0
      },
      "text/plain": [
       "  0%|          | 0/4 [00:00<?, ?it/s]"
      ]
     },
     "metadata": {},
     "output_type": "display_data"
    },
    {
     "name": "stdout",
     "output_type": "stream",
     "text": [
      "criterion=entropy estimators=10 max_depth=1  aucvalue: 0.916 accuracy: 0.187 \n",
      "criterion=entropy estimators=10 max_depth=5  aucvalue: 0.987 accuracy: 0.664 \n",
      "criterion=entropy estimators=10 max_depth=10  aucvalue: 0.996 accuracy: 0.860 \n",
      "criterion=entropy estimators=10 max_depth=30  aucvalue: 0.992 accuracy: 0.871 \n"
     ]
    },
    {
     "data": {
      "application/vnd.jupyter.widget-view+json": {
       "model_id": "4eab9d547b6f4380aac4fc8f95085da8",
       "version_major": 2,
       "version_minor": 0
      },
      "text/plain": [
       "  0%|          | 0/4 [00:00<?, ?it/s]"
      ]
     },
     "metadata": {},
     "output_type": "display_data"
    },
    {
     "name": "stdout",
     "output_type": "stream",
     "text": [
      "criterion=entropy estimators=50 max_depth=1  aucvalue: 0.935 accuracy: 0.213 \n",
      "criterion=entropy estimators=50 max_depth=5  aucvalue: 0.995 accuracy: 0.757 \n",
      "criterion=entropy estimators=50 max_depth=10  aucvalue: 0.999 accuracy: 0.918 \n",
      "criterion=entropy estimators=50 max_depth=30  aucvalue: 0.999 accuracy: 0.937 \n"
     ]
    },
    {
     "data": {
      "application/vnd.jupyter.widget-view+json": {
       "model_id": "21dd8af5851742db873b54553e8d1376",
       "version_major": 2,
       "version_minor": 0
      },
      "text/plain": [
       "  0%|          | 0/4 [00:00<?, ?it/s]"
      ]
     },
     "metadata": {},
     "output_type": "display_data"
    },
    {
     "name": "stdout",
     "output_type": "stream",
     "text": [
      "criterion=entropy estimators=100 max_depth=1  aucvalue: 0.937 accuracy: 0.218 \n",
      "criterion=entropy estimators=100 max_depth=5  aucvalue: 0.995 accuracy: 0.754 \n",
      "criterion=entropy estimators=100 max_depth=10  aucvalue: 0.999 accuracy: 0.929 \n",
      "criterion=entropy estimators=100 max_depth=30  aucvalue: 0.999 accuracy: 0.943 \n"
     ]
    },
    {
     "data": {
      "application/vnd.jupyter.widget-view+json": {
       "model_id": "1167dbfd5e514742be534b7b7f655ee8",
       "version_major": 2,
       "version_minor": 0
      },
      "text/plain": [
       "  0%|          | 0/4 [00:00<?, ?it/s]"
      ]
     },
     "metadata": {},
     "output_type": "display_data"
    },
    {
     "name": "stdout",
     "output_type": "stream",
     "text": [
      "criterion=entropy estimators=500 max_depth=1  aucvalue: 0.941 accuracy: 0.219 \n",
      "criterion=entropy estimators=500 max_depth=5  aucvalue: 0.995 accuracy: 0.771 \n",
      "criterion=entropy estimators=500 max_depth=10  aucvalue: 0.999 accuracy: 0.944 \n",
      "criterion=entropy estimators=500 max_depth=30  aucvalue: 0.999 accuracy: 0.943 \n"
     ]
    },
    {
     "data": {
      "application/vnd.jupyter.widget-view+json": {
       "model_id": "a93d2bb06b7840d794c9de7df2881301",
       "version_major": 2,
       "version_minor": 0
      },
      "text/plain": [
       "  0%|          | 0/4 [00:00<?, ?it/s]"
      ]
     },
     "metadata": {},
     "output_type": "display_data"
    },
    {
     "name": "stdout",
     "output_type": "stream",
     "text": [
      "criterion=entropy estimators=1000 max_depth=1  aucvalue: 0.942 accuracy: 0.215 \n",
      "criterion=entropy estimators=1000 max_depth=5  aucvalue: 0.996 accuracy: 0.774 \n",
      "criterion=entropy estimators=1000 max_depth=10  aucvalue: 0.999 accuracy: 0.945 \n",
      "criterion=entropy estimators=1000 max_depth=30  aucvalue: 0.999 accuracy: 0.944 \n",
      "1.0\n",
      "0.9438596491228071\n"
     ]
    }
   ],
   "source": [
    "# let's find the best combination when training a random forest\n",
    "\n",
    "from sklearn.metrics import accuracy_score, confusion_matrix\n",
    "\n",
    "auc_scores = []\n",
    "accuracy_scores = []\n",
    "\n",
    "for criterion_var in tqdm(['gini', 'entropy']):\n",
    "    for estimators_var in tqdm([10, 50, 100, 500, 1000]):\n",
    "        for max_depth_var in tqdm([1, 5, 10, 30]):\n",
    "\n",
    "\n",
    "            rf = RandomForestClassifier(random_state=1, n_estimators=estimators_var, max_depth=max_depth_var, criterion = criterion_var, \n",
    "                                        min_samples_leaf= 1,min_samples_split= 2)\n",
    "            rf.fit(df_train, y_train)\n",
    "\n",
    "            y_predict_train_rf = rf.predict(df_train)\n",
    "            y_predict_test_rf = rf.predict(df_test)\n",
    "\n",
    "            train_accuracy_score_rf = accuracy_score(y_train, y_predict_train_rf)\n",
    "            test_accuracy_score_rf = accuracy_score(y_test, y_predict_test_rf)\n",
    "\n",
    "            train_rocauc_score_rf = roc_auc_score(y_train, rf.predict_proba(df_train), multi_class='ovr')\n",
    "            test_rocauc_score_rf = roc_auc_score(y_test, rf.predict_proba(df_test), multi_class='ovr')\n",
    "\n",
    "            auc_scores.append(test_rocauc_score_rf)\n",
    "            accuracy_scores.append(test_accuracy_score_rf)\n",
    "\n",
    "            print('criterion=%s estimators=%s max_depth=%s  aucvalue: %.3f accuracy: %.3f ' % (criterion_var, estimators_var, max_depth_var, test_rocauc_score_rf, test_accuracy_score_rf))\n",
    "\n",
    "\n",
    "print(train_accuracy_score_rf)\n",
    "print(test_accuracy_score_rf)"
   ]
  },
  {
   "cell_type": "code",
   "execution_count": null,
   "id": "4d201648",
   "metadata": {},
   "outputs": [],
   "source": [
    "#best choice: \n",
    "# criterion=entropy estimators=1000 max_depth=10  aucvalue: 0.999 accuracy: 0.945\n",
    "        "
   ]
  },
  {
   "cell_type": "code",
   "execution_count": 51,
   "id": "b86e2396",
   "metadata": {},
   "outputs": [
    {
     "data": {
      "image/png": "[encoded data removed]",
      "text/plain": [
       "<Figure size 864x576 with 2 Axes>"
      ]
     },
     "metadata": {},
     "output_type": "display_data"
    }
   ],
   "source": [
    "cm_rf = confusion_matrix(y_test,y_predict_test_rf)\n",
    "draw_confusion_matrix(cm_rf)"
   ]
  },
  {
   "cell_type": "code",
   "execution_count": 86,
   "id": "6923607c",
   "metadata": {},
   "outputs": [
    {
     "data": {
      "application/vnd.jupyter.widget-view+json": {
       "model_id": "a29fdc551bd74e99aa22d2d15644c2a3",
       "version_major": 2,
       "version_minor": 0
      },
      "text/plain": [
       "  0%|          | 0/4 [00:00<?, ?it/s]"
      ]
     },
     "metadata": {},
     "output_type": "display_data"
    },
    {
     "data": {
      "application/vnd.jupyter.widget-view+json": {
       "model_id": "ad2d04d03ee74415b9ab0a109fad31a9",
       "version_major": 2,
       "version_minor": 0
      },
      "text/plain": [
       "  0%|          | 0/5 [00:00<?, ?it/s]"
      ]
     },
     "metadata": {},
     "output_type": "display_data"
    },
    {
     "data": {
      "application/vnd.jupyter.widget-view+json": {
       "model_id": "e7729d98235d4f25b31ed6e09b1ddb2a",
       "version_major": 2,
       "version_minor": 0
      },
      "text/plain": [
       "  0%|          | 0/4 [00:00<?, ?it/s]"
      ]
     },
     "metadata": {},
     "output_type": "display_data"
    },
    {
     "name": "stdout",
     "output_type": "stream",
     "text": [
      "learning_rate=0.001 estimators=10 max_depth=1  aucvalue: 0.972 accuracy: 0.540 \n",
      "learning_rate=0.001 estimators=10 max_depth=5  aucvalue: 0.999 accuracy: 0.967 \n",
      "learning_rate=0.001 estimators=10 max_depth=10  aucvalue: 0.999 accuracy: 0.967 \n",
      "learning_rate=0.001 estimators=10 max_depth=30  aucvalue: 0.999 accuracy: 0.967 \n"
     ]
    },
    {
     "data": {
      "application/vnd.jupyter.widget-view+json": {
       "model_id": "59a0408b7e57488f8d7943bc3380d023",
       "version_major": 2,
       "version_minor": 0
      },
      "text/plain": [
       "  0%|          | 0/4 [00:00<?, ?it/s]"
      ]
     },
     "metadata": {},
     "output_type": "display_data"
    },
    {
     "name": "stdout",
     "output_type": "stream",
     "text": [
      "learning_rate=0.001 estimators=50 max_depth=1  aucvalue: 0.981 accuracy: 0.580 \n",
      "learning_rate=0.001 estimators=50 max_depth=5  aucvalue: 1.000 accuracy: 0.988 \n",
      "learning_rate=0.001 estimators=50 max_depth=10  aucvalue: 1.000 accuracy: 0.989 \n",
      "learning_rate=0.001 estimators=50 max_depth=30  aucvalue: 1.000 accuracy: 0.989 \n"
     ]
    },
    {
     "data": {
      "application/vnd.jupyter.widget-view+json": {
       "model_id": "1a5048d7107d4b829f816b6324b0ff9e",
       "version_major": 2,
       "version_minor": 0
      },
      "text/plain": [
       "  0%|          | 0/4 [00:00<?, ?it/s]"
      ]
     },
     "metadata": {},
     "output_type": "display_data"
    },
    {
     "name": "stdout",
     "output_type": "stream",
     "text": [
      "learning_rate=0.001 estimators=100 max_depth=1  aucvalue: 0.982 accuracy: 0.607 \n",
      "learning_rate=0.001 estimators=100 max_depth=5  aucvalue: 1.000 accuracy: 0.992 \n",
      "learning_rate=0.001 estimators=100 max_depth=10  aucvalue: 1.000 accuracy: 0.992 \n",
      "learning_rate=0.001 estimators=100 max_depth=30  aucvalue: 1.000 accuracy: 0.992 \n"
     ]
    },
    {
     "data": {
      "application/vnd.jupyter.widget-view+json": {
       "model_id": "7b082aeaadc64d538bba70942f020a66",
       "version_major": 2,
       "version_minor": 0
      },
      "text/plain": [
       "  0%|          | 0/4 [00:00<?, ?it/s]"
      ]
     },
     "metadata": {},
     "output_type": "display_data"
    },
    {
     "name": "stdout",
     "output_type": "stream",
     "text": [
      "learning_rate=0.001 estimators=200 max_depth=1  aucvalue: 0.984 accuracy: 0.646 \n",
      "learning_rate=0.001 estimators=200 max_depth=5  aucvalue: 1.000 accuracy: 0.993 \n",
      "learning_rate=0.001 estimators=200 max_depth=10  aucvalue: 1.000 accuracy: 0.993 \n",
      "learning_rate=0.001 estimators=200 max_depth=30  aucvalue: 1.000 accuracy: 0.993 \n"
     ]
    },
    {
     "data": {
      "application/vnd.jupyter.widget-view+json": {
       "model_id": "664562220cf54da980e386fc57b0a49c",
       "version_major": 2,
       "version_minor": 0
      },
      "text/plain": [
       "  0%|          | 0/4 [00:00<?, ?it/s]"
      ]
     },
     "metadata": {},
     "output_type": "display_data"
    },
    {
     "name": "stdout",
     "output_type": "stream",
     "text": [
      "learning_rate=0.001 estimators=500 max_depth=1  aucvalue: 0.989 accuracy: 0.690 \n",
      "learning_rate=0.001 estimators=500 max_depth=5  aucvalue: 1.000 accuracy: 0.996 \n",
      "learning_rate=0.001 estimators=500 max_depth=10  aucvalue: 1.000 accuracy: 0.996 \n",
      "learning_rate=0.001 estimators=500 max_depth=30  aucvalue: 1.000 accuracy: 0.996 \n"
     ]
    },
    {
     "data": {
      "application/vnd.jupyter.widget-view+json": {
       "model_id": "26885aebadc5430da8cb3754ff4886ad",
       "version_major": 2,
       "version_minor": 0
      },
      "text/plain": [
       "  0%|          | 0/5 [00:00<?, ?it/s]"
      ]
     },
     "metadata": {},
     "output_type": "display_data"
    },
    {
     "data": {
      "application/vnd.jupyter.widget-view+json": {
       "model_id": "f86a74eea9de4b13996bb9aacc21875f",
       "version_major": 2,
       "version_minor": 0
      },
      "text/plain": [
       "  0%|          | 0/4 [00:00<?, ?it/s]"
      ]
     },
     "metadata": {},
     "output_type": "display_data"
    },
    {
     "name": "stdout",
     "output_type": "stream",
     "text": [
      "learning_rate=0.01 estimators=10 max_depth=1  aucvalue: 0.977 accuracy: 0.601 \n",
      "learning_rate=0.01 estimators=10 max_depth=5  aucvalue: 0.999 accuracy: 0.979 \n",
      "learning_rate=0.01 estimators=10 max_depth=10  aucvalue: 0.999 accuracy: 0.980 \n",
      "learning_rate=0.01 estimators=10 max_depth=30  aucvalue: 0.999 accuracy: 0.980 \n"
     ]
    },
    {
     "data": {
      "application/vnd.jupyter.widget-view+json": {
       "model_id": "53af4bc934bd49e3a270cdf2f7cfc04f",
       "version_major": 2,
       "version_minor": 0
      },
      "text/plain": [
       "  0%|          | 0/4 [00:00<?, ?it/s]"
      ]
     },
     "metadata": {},
     "output_type": "display_data"
    },
    {
     "name": "stdout",
     "output_type": "stream",
     "text": [
      "learning_rate=0.01 estimators=50 max_depth=1  aucvalue: 0.989 accuracy: 0.692 \n",
      "learning_rate=0.01 estimators=50 max_depth=5  aucvalue: 1.000 accuracy: 0.998 \n",
      "learning_rate=0.01 estimators=50 max_depth=10  aucvalue: 1.000 accuracy: 0.998 \n",
      "learning_rate=0.01 estimators=50 max_depth=30  aucvalue: 1.000 accuracy: 0.998 \n"
     ]
    },
    {
     "data": {
      "application/vnd.jupyter.widget-view+json": {
       "model_id": "2b7872d8018b42a88893c3c5c9f1f1bb",
       "version_major": 2,
       "version_minor": 0
      },
      "text/plain": [
       "  0%|          | 0/4 [00:00<?, ?it/s]"
      ]
     },
     "metadata": {},
     "output_type": "display_data"
    },
    {
     "name": "stdout",
     "output_type": "stream",
     "text": [
      "learning_rate=0.01 estimators=100 max_depth=1  aucvalue: 0.994 accuracy: 0.794 \n",
      "learning_rate=0.01 estimators=100 max_depth=5  aucvalue: 1.000 accuracy: 0.996 \n",
      "learning_rate=0.01 estimators=100 max_depth=10  aucvalue: 1.000 accuracy: 0.996 \n",
      "learning_rate=0.01 estimators=100 max_depth=30  aucvalue: 1.000 accuracy: 0.996 \n"
     ]
    },
    {
     "data": {
      "application/vnd.jupyter.widget-view+json": {
       "model_id": "3687f1224e50414da7c69a37cbcdf69e",
       "version_major": 2,
       "version_minor": 0
      },
      "text/plain": [
       "  0%|          | 0/4 [00:00<?, ?it/s]"
      ]
     },
     "metadata": {},
     "output_type": "display_data"
    },
    {
     "name": "stdout",
     "output_type": "stream",
     "text": [
      "learning_rate=0.01 estimators=200 max_depth=1  aucvalue: 0.997 accuracy: 0.856 \n",
      "learning_rate=0.01 estimators=200 max_depth=5  aucvalue: 1.000 accuracy: 0.998 \n",
      "learning_rate=0.01 estimators=200 max_depth=10  aucvalue: 1.000 accuracy: 0.998 \n",
      "learning_rate=0.01 estimators=200 max_depth=30  aucvalue: 1.000 accuracy: 0.998 \n"
     ]
    },
    {
     "data": {
      "application/vnd.jupyter.widget-view+json": {
       "model_id": "d435716538bc4cacb482d3a8824fde46",
       "version_major": 2,
       "version_minor": 0
      },
      "text/plain": [
       "  0%|          | 0/4 [00:00<?, ?it/s]"
      ]
     },
     "metadata": {},
     "output_type": "display_data"
    },
    {
     "name": "stdout",
     "output_type": "stream",
     "text": [
      "learning_rate=0.01 estimators=500 max_depth=1  aucvalue: 1.000 accuracy: 0.956 \n",
      "learning_rate=0.01 estimators=500 max_depth=5  aucvalue: 1.000 accuracy: 0.999 \n",
      "learning_rate=0.01 estimators=500 max_depth=10  aucvalue: 1.000 accuracy: 0.999 \n",
      "learning_rate=0.01 estimators=500 max_depth=30  aucvalue: 1.000 accuracy: 0.999 \n"
     ]
    },
    {
     "data": {
      "application/vnd.jupyter.widget-view+json": {
       "model_id": "2e7b05ac42f54052883db3622d4301df",
       "version_major": 2,
       "version_minor": 0
      },
      "text/plain": [
       "  0%|          | 0/5 [00:00<?, ?it/s]"
      ]
     },
     "metadata": {},
     "output_type": "display_data"
    },
    {
     "data": {
      "application/vnd.jupyter.widget-view+json": {
       "model_id": "b6fa0515f9fb438f942bf7eed1b22ead",
       "version_major": 2,
       "version_minor": 0
      },
      "text/plain": [
       "  0%|          | 0/4 [00:00<?, ?it/s]"
      ]
     },
     "metadata": {},
     "output_type": "display_data"
    },
    {
     "name": "stdout",
     "output_type": "stream",
     "text": [
      "learning_rate=0.1 estimators=10 max_depth=1  aucvalue: 0.992 accuracy: 0.765 \n",
      "learning_rate=0.1 estimators=10 max_depth=5  aucvalue: 1.000 accuracy: 0.985 \n",
      "learning_rate=0.1 estimators=10 max_depth=10  aucvalue: 1.000 accuracy: 0.986 \n",
      "learning_rate=0.1 estimators=10 max_depth=30  aucvalue: 1.000 accuracy: 0.986 \n"
     ]
    },
    {
     "data": {
      "application/vnd.jupyter.widget-view+json": {
       "model_id": "ad7557daafb74a0ebe2d5a8d34944b70",
       "version_major": 2,
       "version_minor": 0
      },
      "text/plain": [
       "  0%|          | 0/4 [00:00<?, ?it/s]"
      ]
     },
     "metadata": {},
     "output_type": "display_data"
    },
    {
     "name": "stdout",
     "output_type": "stream",
     "text": [
      "learning_rate=0.1 estimators=50 max_depth=1  aucvalue: 1.000 accuracy: 0.953 \n",
      "learning_rate=0.1 estimators=50 max_depth=5  aucvalue: 1.000 accuracy: 0.999 \n",
      "learning_rate=0.1 estimators=50 max_depth=10  aucvalue: 1.000 accuracy: 0.999 \n",
      "learning_rate=0.1 estimators=50 max_depth=30  aucvalue: 1.000 accuracy: 0.999 \n"
     ]
    },
    {
     "data": {
      "application/vnd.jupyter.widget-view+json": {
       "model_id": "3f7552be2aac41d99195350273f6870a",
       "version_major": 2,
       "version_minor": 0
      },
      "text/plain": [
       "  0%|          | 0/4 [00:00<?, ?it/s]"
      ]
     },
     "metadata": {},
     "output_type": "display_data"
    },
    {
     "name": "stdout",
     "output_type": "stream",
     "text": [
      "learning_rate=0.1 estimators=100 max_depth=1  aucvalue: 1.000 accuracy: 0.993 \n",
      "learning_rate=0.1 estimators=100 max_depth=5  aucvalue: 1.000 accuracy: 0.999 \n",
      "learning_rate=0.1 estimators=100 max_depth=10  aucvalue: 1.000 accuracy: 0.999 \n",
      "learning_rate=0.1 estimators=100 max_depth=30  aucvalue: 1.000 accuracy: 0.999 \n"
     ]
    },
    {
     "data": {
      "application/vnd.jupyter.widget-view+json": {
       "model_id": "80d9614dc9bf4175ad83c13a05ef8156",
       "version_major": 2,
       "version_minor": 0
      },
      "text/plain": [
       "  0%|          | 0/4 [00:00<?, ?it/s]"
      ]
     },
     "metadata": {},
     "output_type": "display_data"
    },
    {
     "name": "stdout",
     "output_type": "stream",
     "text": [
      "learning_rate=0.1 estimators=200 max_depth=1  aucvalue: 1.000 accuracy: 0.998 \n",
      "learning_rate=0.1 estimators=200 max_depth=5  aucvalue: 1.000 accuracy: 0.999 \n",
      "learning_rate=0.1 estimators=200 max_depth=10  aucvalue: 1.000 accuracy: 0.999 \n",
      "learning_rate=0.1 estimators=200 max_depth=30  aucvalue: 1.000 accuracy: 0.999 \n"
     ]
    },
    {
     "data": {
      "application/vnd.jupyter.widget-view+json": {
       "model_id": "4969593e2f874d3fa776db3b0531270e",
       "version_major": 2,
       "version_minor": 0
      },
      "text/plain": [
       "  0%|          | 0/4 [00:00<?, ?it/s]"
      ]
     },
     "metadata": {},
     "output_type": "display_data"
    },
    {
     "name": "stdout",
     "output_type": "stream",
     "text": [
      "learning_rate=0.1 estimators=500 max_depth=1  aucvalue: 1.000 accuracy: 0.999 \n",
      "learning_rate=0.1 estimators=500 max_depth=5  aucvalue: 1.000 accuracy: 0.999 \n",
      "learning_rate=0.1 estimators=500 max_depth=10  aucvalue: 1.000 accuracy: 0.999 \n",
      "learning_rate=0.1 estimators=500 max_depth=30  aucvalue: 1.000 accuracy: 0.999 \n"
     ]
    },
    {
     "data": {
      "application/vnd.jupyter.widget-view+json": {
       "model_id": "a2b33099445a4086b5e488680ea07763",
       "version_major": 2,
       "version_minor": 0
      },
      "text/plain": [
       "  0%|          | 0/5 [00:00<?, ?it/s]"
      ]
     },
     "metadata": {},
     "output_type": "display_data"
    },
    {
     "data": {
      "application/vnd.jupyter.widget-view+json": {
       "model_id": "7c43924d489c49b6894c0af65d0b70e9",
       "version_major": 2,
       "version_minor": 0
      },
      "text/plain": [
       "  0%|          | 0/4 [00:00<?, ?it/s]"
      ]
     },
     "metadata": {},
     "output_type": "display_data"
    },
    {
     "name": "stdout",
     "output_type": "stream",
     "text": [
      "learning_rate=1 estimators=10 max_depth=1  aucvalue: 0.838 accuracy: 0.191 \n",
      "learning_rate=1 estimators=10 max_depth=5  aucvalue: 0.999 accuracy: 0.961 \n",
      "learning_rate=1 estimators=10 max_depth=10  aucvalue: 0.999 accuracy: 0.959 \n",
      "learning_rate=1 estimators=10 max_depth=30  aucvalue: 0.999 accuracy: 0.959 \n"
     ]
    },
    {
     "data": {
      "application/vnd.jupyter.widget-view+json": {
       "model_id": "52ca389f22b8407dbf40a5377afc1f00",
       "version_major": 2,
       "version_minor": 0
      },
      "text/plain": [
       "  0%|          | 0/4 [00:00<?, ?it/s]"
      ]
     },
     "metadata": {},
     "output_type": "display_data"
    },
    {
     "name": "stdout",
     "output_type": "stream",
     "text": [
      "learning_rate=1 estimators=50 max_depth=1  aucvalue: 0.992 accuracy: 0.688 \n",
      "learning_rate=1 estimators=50 max_depth=5  aucvalue: 0.999 accuracy: 0.964 \n",
      "learning_rate=1 estimators=50 max_depth=10  aucvalue: 0.999 accuracy: 0.967 \n",
      "learning_rate=1 estimators=50 max_depth=30  aucvalue: 0.999 accuracy: 0.967 \n"
     ]
    },
    {
     "data": {
      "application/vnd.jupyter.widget-view+json": {
       "model_id": "5fe8c8b47ffe461caf0c85f46d273722",
       "version_major": 2,
       "version_minor": 0
      },
      "text/plain": [
       "  0%|          | 0/4 [00:00<?, ?it/s]"
      ]
     },
     "metadata": {},
     "output_type": "display_data"
    },
    {
     "name": "stdout",
     "output_type": "stream",
     "text": [
      "learning_rate=1 estimators=100 max_depth=1  aucvalue: 0.997 accuracy: 0.842 \n",
      "learning_rate=1 estimators=100 max_depth=5  aucvalue: 0.999 accuracy: 0.964 \n",
      "learning_rate=1 estimators=100 max_depth=10  aucvalue: 0.999 accuracy: 0.966 \n",
      "learning_rate=1 estimators=100 max_depth=30  aucvalue: 0.999 accuracy: 0.966 \n"
     ]
    },
    {
     "data": {
      "application/vnd.jupyter.widget-view+json": {
       "model_id": "03460bf2226149a9afd4e45bc24dea06",
       "version_major": 2,
       "version_minor": 0
      },
      "text/plain": [
       "  0%|          | 0/4 [00:00<?, ?it/s]"
      ]
     },
     "metadata": {},
     "output_type": "display_data"
    },
    {
     "name": "stdout",
     "output_type": "stream",
     "text": [
      "learning_rate=1 estimators=200 max_depth=1  aucvalue: 0.998 accuracy: 0.877 \n",
      "learning_rate=1 estimators=200 max_depth=5  aucvalue: 0.999 accuracy: 0.961 \n",
      "learning_rate=1 estimators=200 max_depth=10  aucvalue: 0.999 accuracy: 0.966 \n",
      "learning_rate=1 estimators=200 max_depth=30  aucvalue: 0.999 accuracy: 0.966 \n"
     ]
    },
    {
     "data": {
      "application/vnd.jupyter.widget-view+json": {
       "model_id": "05fc0bdd90d64cbabb1da4c05b3f0d0e",
       "version_major": 2,
       "version_minor": 0
      },
      "text/plain": [
       "  0%|          | 0/4 [00:00<?, ?it/s]"
      ]
     },
     "metadata": {},
     "output_type": "display_data"
    },
    {
     "name": "stdout",
     "output_type": "stream",
     "text": [
      "learning_rate=1 estimators=500 max_depth=1  aucvalue: 0.999 accuracy: 0.936 \n",
      "learning_rate=1 estimators=500 max_depth=5  aucvalue: 0.999 accuracy: 0.961 \n",
      "learning_rate=1 estimators=500 max_depth=10  aucvalue: 0.999 accuracy: 0.968 \n",
      "learning_rate=1 estimators=500 max_depth=30  aucvalue: 0.999 accuracy: 0.968 \n"
     ]
    }
   ],
   "source": [
    "#XGBoost\n",
    "\n",
    "auc_scores = []\n",
    "accuracy_scores = []\n",
    "\n",
    "for learning_rate_var in tqdm([0.001, 0.01, 0.1, 1]):\n",
    "    for estimators_var in tqdm([10, 50, 100, 200, 500]):\n",
    "        for max_depth_var in tqdm([1, 5, 10, 30]):\n",
    "\n",
    "\n",
    "            xgbc = xgb.XGBClassifier(max_depth=max_depth_var, n_estimators=estimators_var, colsample_bytree=0.8, \n",
    "                        subsample=0.8, nthread=10, learning_rate=learning_rate_var)\n",
    "            xgbc.fit(df_train, y_train)\n",
    "\n",
    "            y_predict_train_xgb = xgbc.predict(df_train)\n",
    "            y_predict_test_xgb = xgbc.predict(df_test)\n",
    "\n",
    "            train_accuracy_score_xgb = accuracy_score(y_train, y_predict_train_xgb)\n",
    "            test_accuracy_score_xgb = accuracy_score(y_test, y_predict_test_xgb)\n",
    "\n",
    "            train_rocauc_score_xgb = roc_auc_score(y_train, xgbc.predict_proba(df_train), multi_class='ovr')\n",
    "            test_rocauc_score_xgb = roc_auc_score(y_test, xgbc.predict_proba(df_test), multi_class='ovr')\n",
    "\n",
    "            auc_scores.append(test_rocauc_score_xgb)\n",
    "            accuracy_scores.append(test_accuracy_score_xgb)\n",
    "\n",
    "            print('learning_rate=%s estimators=%s max_depth=%s  aucvalue: %.3f accuracy: %.3f ' % (learning_rate_var, estimators_var, max_depth_var, test_rocauc_score_xgb, test_accuracy_score_xgb))\n",
    "\n",
    "\n"
   ]
  },
  {
   "cell_type": "code",
   "execution_count": 88,
   "id": "9f0935f4",
   "metadata": {},
   "outputs": [
    {
     "data": {
      "image/png": "[encoded data removed]",
      "text/plain": [
       "<Figure size 864x576 with 2 Axes>"
      ]
     },
     "metadata": {},
     "output_type": "display_data"
    }
   ],
   "source": [
    "#not so many differences, but best combination with the lowest footprint for XGBoost seems\n",
    "# learning_rate=0.1 estimators=50 max_depth=5  aucvalue: 1.000 accuracy: 0.999 \n",
    "\n",
    "xgbc = xgb.XGBClassifier(max_depth=5, n_estimators=50, colsample_bytree=0.8, \n",
    "                        subsample=0.8, nthread=10, learning_rate=0.1)\n",
    "\n",
    "xgbc.fit(df_train, y_train)\n",
    "y_predict_test_xgb = xgbc.predict(df_test)\n",
    "\n",
    "cm_xgb = confusion_matrix(y_test,y_predict_test_xgb)\n",
    "draw_confusion_matrix(cm_xgb)\n",
    "\n",
    "\n"
   ]
  },
  {
   "cell_type": "code",
   "execution_count": 89,
   "id": "c0cc9fea",
   "metadata": {},
   "outputs": [
    {
     "data": {
      "image/png": "[encoded data removed]",
      "text/plain": [
       "<Figure size 864x576 with 2 Axes>"
      ]
     },
     "metadata": {},
     "output_type": "display_data"
    }
   ],
   "source": [
    "y_predict_val_xgb = xgbc.predict(df_val)\n",
    "\n",
    "cm_xgb2 = confusion_matrix(y_val,y_predict_val_xgb)\n",
    "draw_confusion_matrix(cm_xgb2)\n"
   ]
  },
  {
   "cell_type": "code",
   "execution_count": null,
   "id": "101410f0",
   "metadata": {},
   "outputs": [],
   "source": [
    "\n",
    "# let's now see how it works with a neural network.\n",
    "# we're going to apply Kera's ensorflow to a tabular dataset.\n",
    "# it will be hard to win over XGBoost \n"
   ]
  },
  {
   "cell_type": "code",
   "execution_count": null,
   "id": "70b41521",
   "metadata": {},
   "outputs": [],
   "source": [
    "import tensorflow as tf\n",
    "from keras.models import Sequential\n",
    "from keras.layers import Dense\n",
    "\n",
    "tf.convert_to_tensor"
   ]
  }
 ],
 "metadata": {
  "kernelspec": {
   "display_name": "Python 3 (ipykernel)",
   "language": "python",
   "name": "python3"
  },
  "language_info": {
   "codemirror_mode": {
    "name": "ipython",
    "version": 3
   },
   "file_extension": ".py",
   "mimetype": "text/x-python",
   "name": "python",
   "nbconvert_exporter": "python",
   "pygments_lexer": "ipython3",
   "version": "3.9.12"
  }
 },
 "nbformat": 4,
 "nbformat_minor": 5
}
